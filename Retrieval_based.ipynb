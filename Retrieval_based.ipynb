{
  "cells": [
    {
      "cell_type": "markdown",
      "metadata": {
        "id": "K5y_I0O-5RMh"
      },
      "source": [
        "## Loading data and preliminary analysis"
      ]
    },
    {
      "cell_type": "code",
      "execution_count": 2,
      "metadata": {
        "id": "YR-ilUaKO1mR"
      },
      "outputs": [],
      "source": [
        "# import libraries\n",
        "\n",
        "import pandas as pd \n",
        "import numpy as np \n",
        "import matplotlib.pyplot as plt\n",
        "from pathlib import Path\n",
        "import string\n",
        "import re\n",
        "import joblib\n",
        "import json\n",
        "from collections import Counter\n",
        "import nltk\n",
        "from nltk.corpus import stopwords\n",
        "from nltk.stem import WordNetLemmatizer\n",
        "import pickle\n",
        "\n",
        "from tensorflow.keras.preprocessing.text import Tokenizer\n",
        "from tensorflow.keras.preprocessing.sequence import pad_sequences\n",
        "from tensorflow.keras.utils import plot_model\n",
        "from tensorflow.keras.models import Sequential, Model\n",
        "from tensorflow.keras.layers import Embedding, Dense, Flatten, Conv1D, MaxPooling1D, SimpleRNN, GRU, LSTM, LSTM, Input, Embedding, TimeDistributed, Flatten, Dropout,Bidirectional\n",
        "from tensorflow.keras.callbacks import ModelCheckpoint, EarlyStopping, ReduceLROnPlateau"
      ]
    },
    {
      "cell_type": "code",
      "execution_count": 3,
      "metadata": {
        "id": "zo9OE78qO9Pe"
      },
      "outputs": [],
      "source": [
        "# download dependencies \n",
        "\n",
        "# uncomment if running for the first time\n",
        "# import nltk\n",
        "# nltk.download('stopwords')\n",
        "# nltk.download('wordnet')"
      ]
    },
    {
      "cell_type": "code",
      "execution_count": 4,
      "metadata": {
        "colab": {
          "base_uri": "https://localhost:8080/"
        },
        "id": "EnLqRE6uS2Hb",
        "outputId": "470b6d1a-7f26-4d8e-b60c-48e3db2e2991"
      },
      "outputs": [
        {
          "data": {
            "text/plain": [
              "{'intents': [{'tag': 'definition',\n",
              "   'patterns': ['What does it mean to have a mental illness?',\n",
              "    'What is mental health illness',\n",
              "    'Describe mental health illness'],\n",
              "   'responses': [\"Mental illnesses are health conditions that disrupt a person's thoughts, emotions, relationships, and daily functioning.\"],\n",
              "   'context': ['']},\n",
              "  {'tag': 'affects_whom',\n",
              "   'patterns': ['Who does mental illness affect?',\n",
              "    'Who is affected by mental illness'],\n",
              "   'responses': ['It is estimated that mental illness affects 1 in 5 adults in America, and that 1 in 24 adults have a serious mental illness.'],\n",
              "   'context': ['']},\n",
              "  {'tag': 'what_causes',\n",
              "   'patterns': ['What causes mental illness?',\n",
              "    'What leads to mental illness?',\n",
              "    'how does one get mentally ill?'],\n",
              "   'responses': ['Symptoms of mental health disorders vary depending on the type and severity of the condition.'],\n",
              "   'context': ['']},\n",
              "  {'tag': 'recover',\n",
              "   'patterns': ['Can people with mental illness recover?',\n",
              "    'Is it possible to recover from mental illness'],\n",
              "   'responses': ['When healing from mental illness, early identification and treatment are of vital importance. Based on the nature of the illness, there are a range of effective treatments available. For any type of treatment, it is essential that the person affected is proactive and fully engaged in their own recovery process. Many people with mental illnesses who are diagnosed and treated respond well, although some might experience a return of symptoms. Even in such cases, with careful monitoring and management of the disorder, it is still quite possible to live a fulfilled and productive life.'],\n",
              "   'context': ['']},\n",
              "  {'tag': 'steps',\n",
              "   'patterns': ['I know someone who appears to have such symptoms?',\n",
              "    'What are the steps to be followed incase of symptoms'],\n",
              "   'responses': [\"Although this website cannot substitute for professional advice, we encourage those with symptoms to talk to their friends and family members and seek the counsel of a mental health professional. The sooner the mental health condition is identified and treated, the sooner they can get on the path to recovery.If you know someone who is having problems, don't assume that the issue will resolve itself. Let them know that you care about them, and that there are treatment options available that will help them heal. Speak with a mental health professional or counselor if you think your friend or family member is experiencing the symptoms of a mental health condition. If the affected loved one knows that you support them, they will be more likely to seek out help.\"],\n",
              "   'context': ['']},\n",
              "  {'tag': 'find_help',\n",
              "   'patterns': ['How to find mental health professional for myself',\n",
              "    'How to find mental health professional?'],\n",
              "   'responses': ['Feeling comfortable with the professional you or your child is working with is critical to the success of the treatment. Finding the professional who best fits your needs may require research. Start by searching for providers in your area.'],\n",
              "   'context': ['']},\n",
              "  {'tag': 'treatement_options',\n",
              "   'patterns': ['What treatment options are available?',\n",
              "    'How can one recover?'],\n",
              "   'responses': ['Just as there are different types of medications for physical illness, different treatment options are available for individuals with mental illness. Treatment works differently for different people. It is important to find what works best for you or your child.'],\n",
              "   'context': ['']},\n",
              "  {'tag': 'treatment_tips',\n",
              "   'patterns': ['How to become involved in treatment?',\n",
              "    'What should I keep in mind if I begin treatment?'],\n",
              "   'responses': ['Since beginning treatment is a big step for individuals and families, it can be very overwhelming.'],\n",
              "   'context': ['']},\n",
              "  {'tag': 'professional_types',\n",
              "   'patterns': ['What is the difference between mental health professionals?',\n",
              "    'What are the different types of mental health professionals present?'],\n",
              "   'responses': ['There are many types of mental health professionals. The variety of providers and their services may be confusing. Each have various levels of education, training, and may have different areas of expertise. Finding the professional who best fits your needs may require some research.'],\n",
              "   'context': ['']},\n",
              "  {'tag': 'right_professional',\n",
              "   'patterns': ['How can I find a mental health professional right myself?',\n",
              "    'How to find the right mental health professional?'],\n",
              "   'responses': ['Feeling comfortable with the professional you or your child is working with is critical to the success of your treatment. Finding the professional who best fits your needs may require some research.'],\n",
              "   'context': ['']}]}"
            ]
          },
          "execution_count": 4,
          "metadata": {},
          "output_type": "execute_result"
        }
      ],
      "source": [
        "# load data\n",
        "with open(r\"D:\\COURSE\\4.1\\PROJECT\\Chatbot-for-mental-health-main\\Chatbot-for-mental-health-main\\Dataset\\mentalhealth.json\") as file:\n",
        "  data = json.load(file)\n",
        "\n",
        "data"
      ]
    },
    {
      "cell_type": "code",
      "execution_count": 5,
      "metadata": {
        "id": "UHalec2-OgjC"
      },
      "outputs": [],
      "source": [
        "# convert to dataframes \n",
        " \n",
        "def frame_data(feat_1,feat_2,is_pattern):\n",
        "  is_pattern = is_pattern\n",
        "  df = pd.DataFrame(columns=[feat_1,feat_2])\n",
        "  for intent in data['intents']:\n",
        "    if is_pattern:\n",
        "      for pattern in intent['patterns']:\n",
        "        w = pattern\n",
        "        df_to_append = pd.Series([w,intent['tag']], index = df.columns)\n",
        "        df = df.append(df_to_append,ignore_index=True)\n",
        "    else:\n",
        "      for response in intent['responses']:\n",
        "        w = response\n",
        "        df_to_append = pd.Series([w,intent['tag']], index = df.columns)\n",
        "        df = df.append(df_to_append,ignore_index=True)\n",
        "  return df"
      ]
    },
    {
      "cell_type": "code",
      "execution_count": 6,
      "metadata": {
        "colab": {
          "base_uri": "https://localhost:8080/",
          "height": 203
        },
        "id": "nzHe4LRwS7KL",
        "outputId": "ef19fb8a-89f4-42ea-e294-e32758e746ea"
      },
      "outputs": [
        {
          "name": "stderr",
          "output_type": "stream",
          "text": [
            "C:\\Users\\HP\\AppData\\Local\\Temp\\ipykernel_14640\\2683388037.py:11: FutureWarning: The frame.append method is deprecated and will be removed from pandas in a future version. Use pandas.concat instead.\n",
            "  df = df.append(df_to_append,ignore_index=True)\n",
            "C:\\Users\\HP\\AppData\\Local\\Temp\\ipykernel_14640\\2683388037.py:11: FutureWarning: The frame.append method is deprecated and will be removed from pandas in a future version. Use pandas.concat instead.\n",
            "  df = df.append(df_to_append,ignore_index=True)\n",
            "C:\\Users\\HP\\AppData\\Local\\Temp\\ipykernel_14640\\2683388037.py:11: FutureWarning: The frame.append method is deprecated and will be removed from pandas in a future version. Use pandas.concat instead.\n",
            "  df = df.append(df_to_append,ignore_index=True)\n",
            "C:\\Users\\HP\\AppData\\Local\\Temp\\ipykernel_14640\\2683388037.py:11: FutureWarning: The frame.append method is deprecated and will be removed from pandas in a future version. Use pandas.concat instead.\n",
            "  df = df.append(df_to_append,ignore_index=True)\n",
            "C:\\Users\\HP\\AppData\\Local\\Temp\\ipykernel_14640\\2683388037.py:11: FutureWarning: The frame.append method is deprecated and will be removed from pandas in a future version. Use pandas.concat instead.\n",
            "  df = df.append(df_to_append,ignore_index=True)\n",
            "C:\\Users\\HP\\AppData\\Local\\Temp\\ipykernel_14640\\2683388037.py:11: FutureWarning: The frame.append method is deprecated and will be removed from pandas in a future version. Use pandas.concat instead.\n",
            "  df = df.append(df_to_append,ignore_index=True)\n",
            "C:\\Users\\HP\\AppData\\Local\\Temp\\ipykernel_14640\\2683388037.py:11: FutureWarning: The frame.append method is deprecated and will be removed from pandas in a future version. Use pandas.concat instead.\n",
            "  df = df.append(df_to_append,ignore_index=True)\n",
            "C:\\Users\\HP\\AppData\\Local\\Temp\\ipykernel_14640\\2683388037.py:11: FutureWarning: The frame.append method is deprecated and will be removed from pandas in a future version. Use pandas.concat instead.\n",
            "  df = df.append(df_to_append,ignore_index=True)\n",
            "C:\\Users\\HP\\AppData\\Local\\Temp\\ipykernel_14640\\2683388037.py:11: FutureWarning: The frame.append method is deprecated and will be removed from pandas in a future version. Use pandas.concat instead.\n",
            "  df = df.append(df_to_append,ignore_index=True)\n",
            "C:\\Users\\HP\\AppData\\Local\\Temp\\ipykernel_14640\\2683388037.py:11: FutureWarning: The frame.append method is deprecated and will be removed from pandas in a future version. Use pandas.concat instead.\n",
            "  df = df.append(df_to_append,ignore_index=True)\n",
            "C:\\Users\\HP\\AppData\\Local\\Temp\\ipykernel_14640\\2683388037.py:11: FutureWarning: The frame.append method is deprecated and will be removed from pandas in a future version. Use pandas.concat instead.\n",
            "  df = df.append(df_to_append,ignore_index=True)\n",
            "C:\\Users\\HP\\AppData\\Local\\Temp\\ipykernel_14640\\2683388037.py:11: FutureWarning: The frame.append method is deprecated and will be removed from pandas in a future version. Use pandas.concat instead.\n",
            "  df = df.append(df_to_append,ignore_index=True)\n",
            "C:\\Users\\HP\\AppData\\Local\\Temp\\ipykernel_14640\\2683388037.py:11: FutureWarning: The frame.append method is deprecated and will be removed from pandas in a future version. Use pandas.concat instead.\n",
            "  df = df.append(df_to_append,ignore_index=True)\n",
            "C:\\Users\\HP\\AppData\\Local\\Temp\\ipykernel_14640\\2683388037.py:11: FutureWarning: The frame.append method is deprecated and will be removed from pandas in a future version. Use pandas.concat instead.\n",
            "  df = df.append(df_to_append,ignore_index=True)\n",
            "C:\\Users\\HP\\AppData\\Local\\Temp\\ipykernel_14640\\2683388037.py:11: FutureWarning: The frame.append method is deprecated and will be removed from pandas in a future version. Use pandas.concat instead.\n",
            "  df = df.append(df_to_append,ignore_index=True)\n",
            "C:\\Users\\HP\\AppData\\Local\\Temp\\ipykernel_14640\\2683388037.py:11: FutureWarning: The frame.append method is deprecated and will be removed from pandas in a future version. Use pandas.concat instead.\n",
            "  df = df.append(df_to_append,ignore_index=True)\n",
            "C:\\Users\\HP\\AppData\\Local\\Temp\\ipykernel_14640\\2683388037.py:11: FutureWarning: The frame.append method is deprecated and will be removed from pandas in a future version. Use pandas.concat instead.\n",
            "  df = df.append(df_to_append,ignore_index=True)\n",
            "C:\\Users\\HP\\AppData\\Local\\Temp\\ipykernel_14640\\2683388037.py:11: FutureWarning: The frame.append method is deprecated and will be removed from pandas in a future version. Use pandas.concat instead.\n",
            "  df = df.append(df_to_append,ignore_index=True)\n",
            "C:\\Users\\HP\\AppData\\Local\\Temp\\ipykernel_14640\\2683388037.py:11: FutureWarning: The frame.append method is deprecated and will be removed from pandas in a future version. Use pandas.concat instead.\n",
            "  df = df.append(df_to_append,ignore_index=True)\n",
            "C:\\Users\\HP\\AppData\\Local\\Temp\\ipykernel_14640\\2683388037.py:11: FutureWarning: The frame.append method is deprecated and will be removed from pandas in a future version. Use pandas.concat instead.\n",
            "  df = df.append(df_to_append,ignore_index=True)\n",
            "C:\\Users\\HP\\AppData\\Local\\Temp\\ipykernel_14640\\2683388037.py:11: FutureWarning: The frame.append method is deprecated and will be removed from pandas in a future version. Use pandas.concat instead.\n",
            "  df = df.append(df_to_append,ignore_index=True)\n",
            "C:\\Users\\HP\\AppData\\Local\\Temp\\ipykernel_14640\\2683388037.py:11: FutureWarning: The frame.append method is deprecated and will be removed from pandas in a future version. Use pandas.concat instead.\n",
            "  df = df.append(df_to_append,ignore_index=True)\n"
          ]
        },
        {
          "data": {
            "text/html": [
              "<div>\n",
              "<style scoped>\n",
              "    .dataframe tbody tr th:only-of-type {\n",
              "        vertical-align: middle;\n",
              "    }\n",
              "\n",
              "    .dataframe tbody tr th {\n",
              "        vertical-align: top;\n",
              "    }\n",
              "\n",
              "    .dataframe thead th {\n",
              "        text-align: right;\n",
              "    }\n",
              "</style>\n",
              "<table border=\"1\" class=\"dataframe\">\n",
              "  <thead>\n",
              "    <tr style=\"text-align: right;\">\n",
              "      <th></th>\n",
              "      <th>questions</th>\n",
              "      <th>labels</th>\n",
              "    </tr>\n",
              "  </thead>\n",
              "  <tbody>\n",
              "    <tr>\n",
              "      <th>0</th>\n",
              "      <td>What does it mean to have a mental illness?</td>\n",
              "      <td>definition</td>\n",
              "    </tr>\n",
              "    <tr>\n",
              "      <th>1</th>\n",
              "      <td>What is mental health illness</td>\n",
              "      <td>definition</td>\n",
              "    </tr>\n",
              "    <tr>\n",
              "      <th>2</th>\n",
              "      <td>Describe mental health illness</td>\n",
              "      <td>definition</td>\n",
              "    </tr>\n",
              "    <tr>\n",
              "      <th>3</th>\n",
              "      <td>Who does mental illness affect?</td>\n",
              "      <td>affects_whom</td>\n",
              "    </tr>\n",
              "    <tr>\n",
              "      <th>4</th>\n",
              "      <td>Who is affected by mental illness</td>\n",
              "      <td>affects_whom</td>\n",
              "    </tr>\n",
              "  </tbody>\n",
              "</table>\n",
              "</div>"
            ],
            "text/plain": [
              "                                     questions        labels\n",
              "0  What does it mean to have a mental illness?    definition\n",
              "1                What is mental health illness    definition\n",
              "2               Describe mental health illness    definition\n",
              "3              Who does mental illness affect?  affects_whom\n",
              "4            Who is affected by mental illness  affects_whom"
            ]
          },
          "execution_count": 6,
          "metadata": {},
          "output_type": "execute_result"
        }
      ],
      "source": [
        "df1 = frame_data('questions','labels',True)\n",
        "df1.head()"
      ]
    },
    {
      "cell_type": "code",
      "execution_count": 7,
      "metadata": {
        "colab": {
          "base_uri": "https://localhost:8080/"
        },
        "id": "dBK6Wzi-S7GW",
        "outputId": "861808e1-063b-4d1f-b0d7-dd5564e2ee30"
      },
      "outputs": [
        {
          "data": {
            "text/plain": [
              "definition            3\n",
              "affects_whom          2\n",
              "what_causes           3\n",
              "recover               2\n",
              "steps                 2\n",
              "find_help             2\n",
              "treatement_options    2\n",
              "treatment_tips        2\n",
              "professional_types    2\n",
              "right_professional    2\n",
              "Name: labels, dtype: int64"
            ]
          },
          "execution_count": 7,
          "metadata": {},
          "output_type": "execute_result"
        }
      ],
      "source": [
        "# no of patterns\n",
        "\n",
        "(df1.labels.value_counts(sort=False))"
      ]
    },
    {
      "cell_type": "code",
      "execution_count": 8,
      "metadata": {
        "colab": {
          "base_uri": "https://localhost:8080/",
          "height": 203
        },
        "id": "me9oCoFmS7EI",
        "outputId": "730658df-9755-4b6f-fba7-68904e0f1ae0"
      },
      "outputs": [
        {
          "name": "stderr",
          "output_type": "stream",
          "text": [
            "C:\\Users\\HP\\AppData\\Local\\Temp\\ipykernel_14640\\2683388037.py:16: FutureWarning: The frame.append method is deprecated and will be removed from pandas in a future version. Use pandas.concat instead.\n",
            "  df = df.append(df_to_append,ignore_index=True)\n",
            "C:\\Users\\HP\\AppData\\Local\\Temp\\ipykernel_14640\\2683388037.py:16: FutureWarning: The frame.append method is deprecated and will be removed from pandas in a future version. Use pandas.concat instead.\n",
            "  df = df.append(df_to_append,ignore_index=True)\n",
            "C:\\Users\\HP\\AppData\\Local\\Temp\\ipykernel_14640\\2683388037.py:16: FutureWarning: The frame.append method is deprecated and will be removed from pandas in a future version. Use pandas.concat instead.\n",
            "  df = df.append(df_to_append,ignore_index=True)\n",
            "C:\\Users\\HP\\AppData\\Local\\Temp\\ipykernel_14640\\2683388037.py:16: FutureWarning: The frame.append method is deprecated and will be removed from pandas in a future version. Use pandas.concat instead.\n",
            "  df = df.append(df_to_append,ignore_index=True)\n",
            "C:\\Users\\HP\\AppData\\Local\\Temp\\ipykernel_14640\\2683388037.py:16: FutureWarning: The frame.append method is deprecated and will be removed from pandas in a future version. Use pandas.concat instead.\n",
            "  df = df.append(df_to_append,ignore_index=True)\n",
            "C:\\Users\\HP\\AppData\\Local\\Temp\\ipykernel_14640\\2683388037.py:16: FutureWarning: The frame.append method is deprecated and will be removed from pandas in a future version. Use pandas.concat instead.\n",
            "  df = df.append(df_to_append,ignore_index=True)\n",
            "C:\\Users\\HP\\AppData\\Local\\Temp\\ipykernel_14640\\2683388037.py:16: FutureWarning: The frame.append method is deprecated and will be removed from pandas in a future version. Use pandas.concat instead.\n",
            "  df = df.append(df_to_append,ignore_index=True)\n",
            "C:\\Users\\HP\\AppData\\Local\\Temp\\ipykernel_14640\\2683388037.py:16: FutureWarning: The frame.append method is deprecated and will be removed from pandas in a future version. Use pandas.concat instead.\n",
            "  df = df.append(df_to_append,ignore_index=True)\n",
            "C:\\Users\\HP\\AppData\\Local\\Temp\\ipykernel_14640\\2683388037.py:16: FutureWarning: The frame.append method is deprecated and will be removed from pandas in a future version. Use pandas.concat instead.\n",
            "  df = df.append(df_to_append,ignore_index=True)\n",
            "C:\\Users\\HP\\AppData\\Local\\Temp\\ipykernel_14640\\2683388037.py:16: FutureWarning: The frame.append method is deprecated and will be removed from pandas in a future version. Use pandas.concat instead.\n",
            "  df = df.append(df_to_append,ignore_index=True)\n"
          ]
        },
        {
          "data": {
            "text/html": [
              "<div>\n",
              "<style scoped>\n",
              "    .dataframe tbody tr th:only-of-type {\n",
              "        vertical-align: middle;\n",
              "    }\n",
              "\n",
              "    .dataframe tbody tr th {\n",
              "        vertical-align: top;\n",
              "    }\n",
              "\n",
              "    .dataframe thead th {\n",
              "        text-align: right;\n",
              "    }\n",
              "</style>\n",
              "<table border=\"1\" class=\"dataframe\">\n",
              "  <thead>\n",
              "    <tr style=\"text-align: right;\">\n",
              "      <th></th>\n",
              "      <th>response</th>\n",
              "      <th>labels</th>\n",
              "    </tr>\n",
              "  </thead>\n",
              "  <tbody>\n",
              "    <tr>\n",
              "      <th>0</th>\n",
              "      <td>Mental illnesses are health conditions that di...</td>\n",
              "      <td>definition</td>\n",
              "    </tr>\n",
              "    <tr>\n",
              "      <th>1</th>\n",
              "      <td>It is estimated that mental illness affects 1 ...</td>\n",
              "      <td>affects_whom</td>\n",
              "    </tr>\n",
              "    <tr>\n",
              "      <th>2</th>\n",
              "      <td>Symptoms of mental health disorders vary depen...</td>\n",
              "      <td>what_causes</td>\n",
              "    </tr>\n",
              "    <tr>\n",
              "      <th>3</th>\n",
              "      <td>When healing from mental illness, early identi...</td>\n",
              "      <td>recover</td>\n",
              "    </tr>\n",
              "    <tr>\n",
              "      <th>4</th>\n",
              "      <td>Although this website cannot substitute for pr...</td>\n",
              "      <td>steps</td>\n",
              "    </tr>\n",
              "  </tbody>\n",
              "</table>\n",
              "</div>"
            ],
            "text/plain": [
              "                                            response        labels\n",
              "0  Mental illnesses are health conditions that di...    definition\n",
              "1  It is estimated that mental illness affects 1 ...  affects_whom\n",
              "2  Symptoms of mental health disorders vary depen...   what_causes\n",
              "3  When healing from mental illness, early identi...       recover\n",
              "4  Although this website cannot substitute for pr...         steps"
            ]
          },
          "execution_count": 8,
          "metadata": {},
          "output_type": "execute_result"
        }
      ],
      "source": [
        "df2 = frame_data('response','labels',False)\n",
        "df2.head()"
      ]
    },
    {
      "cell_type": "markdown",
      "metadata": {
        "id": "Ja0_TgzN5Xya"
      },
      "source": [
        "## Data preprocessing"
      ]
    },
    {
      "cell_type": "code",
      "execution_count": 9,
      "metadata": {
        "id": "YEVlJqEIR_ts"
      },
      "outputs": [],
      "source": [
        "# preprocessing text\n",
        "\n",
        "lemmatizer = WordNetLemmatizer()\n",
        "\n",
        "vocab = Counter()\n",
        "labels = []\n",
        "def tokenizer(entry):\n",
        "    tokens = entry.split()\n",
        "    re_punc = re.compile('[%s]' % re.escape(string.punctuation))\n",
        "    tokens = [re_punc.sub('', w) for w in tokens]\n",
        "    tokens = [word for word in tokens if word.isalpha()]\n",
        "    tokens = [lemmatizer.lemmatize(w.lower()) for w in tokens]\n",
        "    tokens = [word.lower() for word in tokens if len(word) > 1]\n",
        "    return tokens\n",
        "\n",
        "def remove_stop_words(tokenizer,df,feature):\n",
        "    doc_without_stopwords = []\n",
        "    for entry in df[feature]:\n",
        "        tokens = tokenizer(entry)\n",
        "        joblib.dump(tokens,'tokens.pkl')\n",
        "        doc_without_stopwords.append(' '.join(tokens))\n",
        "    df[feature] = doc_without_stopwords\n",
        "    return"
      ]
    },
    {
      "cell_type": "code",
      "execution_count": 10,
      "metadata": {
        "id": "Jt61ZCG9UWN0"
      },
      "outputs": [],
      "source": [
        "def create_vocab(tokenizer,df,feature):\n",
        "    for entry in df[feature]:\n",
        "        tokens = tokenizer(entry)   \n",
        "        vocab.update(tokens)\n",
        "    joblib.dump(vocab,'vocab.pkl')\n",
        "    return"
      ]
    },
    {
      "cell_type": "code",
      "execution_count": 11,
      "metadata": {
        "id": "emdwHIQcUWJ-"
      },
      "outputs": [],
      "source": [
        "create_vocab(tokenizer,df1,'questions')"
      ]
    },
    {
      "cell_type": "code",
      "execution_count": 12,
      "metadata": {
        "colab": {
          "base_uri": "https://localhost:8080/"
        },
        "id": "IbK9OeYY0iWo",
        "outputId": "e058ceab-cdd4-4b40-eb08-ad9246b607d3"
      },
      "outputs": [
        {
          "data": {
            "text/plain": [
              "Counter({'what': 9,\n",
              "         'doe': 3,\n",
              "         'it': 2,\n",
              "         'mean': 1,\n",
              "         'to': 9,\n",
              "         'have': 2,\n",
              "         'mental': 15,\n",
              "         'illness': 9,\n",
              "         'is': 4,\n",
              "         'health': 8,\n",
              "         'describe': 1,\n",
              "         'who': 3,\n",
              "         'affect': 1,\n",
              "         'affected': 1,\n",
              "         'by': 1,\n",
              "         'cause': 1,\n",
              "         'lead': 1,\n",
              "         'how': 7,\n",
              "         'one': 2,\n",
              "         'get': 1,\n",
              "         'mentally': 1,\n",
              "         'ill': 1,\n",
              "         'can': 3,\n",
              "         'people': 1,\n",
              "         'with': 1,\n",
              "         'recover': 3,\n",
              "         'possible': 1,\n",
              "         'from': 1,\n",
              "         'know': 1,\n",
              "         'someone': 1,\n",
              "         'appears': 1,\n",
              "         'such': 1,\n",
              "         'symptom': 2,\n",
              "         'are': 3,\n",
              "         'the': 4,\n",
              "         'step': 1,\n",
              "         'be': 1,\n",
              "         'followed': 1,\n",
              "         'incase': 1,\n",
              "         'of': 2,\n",
              "         'find': 4,\n",
              "         'professional': 6,\n",
              "         'for': 1,\n",
              "         'myself': 2,\n",
              "         'treatment': 3,\n",
              "         'option': 1,\n",
              "         'available': 1,\n",
              "         'become': 1,\n",
              "         'involved': 1,\n",
              "         'in': 2,\n",
              "         'should': 1,\n",
              "         'keep': 1,\n",
              "         'mind': 1,\n",
              "         'if': 1,\n",
              "         'begin': 1,\n",
              "         'difference': 1,\n",
              "         'between': 1,\n",
              "         'different': 1,\n",
              "         'type': 1,\n",
              "         'present': 1,\n",
              "         'right': 2})"
            ]
          },
          "execution_count": 12,
          "metadata": {},
          "output_type": "execute_result"
        }
      ],
      "source": [
        "vocab"
      ]
    },
    {
      "cell_type": "code",
      "execution_count": 13,
      "metadata": {
        "colab": {
          "base_uri": "https://localhost:8080/"
        },
        "id": "0_EER8ZWkpJU",
        "outputId": "0b272597-4ea5-44dd-f37a-2c7df0e8731a"
      },
      "outputs": [
        {
          "data": {
            "text/plain": [
              "61"
            ]
          },
          "execution_count": 13,
          "metadata": {},
          "output_type": "execute_result"
        }
      ],
      "source": [
        "vocab_size = len(vocab)\n",
        "vocab_size"
      ]
    },
    {
      "cell_type": "code",
      "execution_count": 14,
      "metadata": {
        "colab": {
          "base_uri": "https://localhost:8080/"
        },
        "id": "q2S6fc7iV5Fl",
        "outputId": "23324a36-3505-45b6-a5cc-2e48ac3da410"
      },
      "outputs": [
        {
          "data": {
            "text/plain": [
              "0                      Who does mental illness affect?\n",
              "1          What does it mean to have a mental illness?\n",
              "2    How to find mental health professional for myself\n",
              "3    What is the difference between mental health p...\n",
              "4              Can people with mental illness recover?\n",
              "5    How can I find a mental health professional ri...\n",
              "6    I know someone who appears to have such symptoms?\n",
              "7                What treatment options are available?\n",
              "8                 How to become involved in treatment?\n",
              "9                          What causes mental illness?\n",
              "Name: questions, dtype: object"
            ]
          },
          "execution_count": 14,
          "metadata": {},
          "output_type": "execute_result"
        }
      ],
      "source": [
        "df1.groupby(by='labels',as_index=False).first()['questions']"
      ]
    },
    {
      "cell_type": "code",
      "execution_count": 15,
      "metadata": {
        "colab": {
          "base_uri": "https://localhost:8080/"
        },
        "id": "flmw4NGyR_o1",
        "outputId": "63f1c0f6-4587-4093-ed72-f3213e5449e4"
      },
      "outputs": [
        {
          "data": {
            "text/plain": [
              "['Who does mental illness affect?',\n",
              " 'What does it mean to have a mental illness?',\n",
              " 'How to find mental health professional for myself',\n",
              " 'What is the difference between mental health professionals?',\n",
              " 'Can people with mental illness recover?',\n",
              " 'How can I find a mental health professional right myself?',\n",
              " 'I know someone who appears to have such symptoms?',\n",
              " 'What treatment options are available?',\n",
              " 'How to become involved in treatment?',\n",
              " 'What causes mental illness?']"
            ]
          },
          "execution_count": 15,
          "metadata": {},
          "output_type": "execute_result"
        }
      ],
      "source": [
        "# test_list contains the first element of questions\n",
        "\n",
        "test_list = list(df1.groupby(by='labels',as_index=False).first()['questions'])\n",
        "test_list"
      ]
    },
    {
      "cell_type": "code",
      "execution_count": 16,
      "metadata": {
        "colab": {
          "base_uri": "https://localhost:8080/"
        },
        "id": "MNtMUqJQUs9U",
        "outputId": "033574e0-71f2-411b-8bc6-6ae9557fd3c5"
      },
      "outputs": [
        {
          "data": {
            "text/plain": [
              "[3, 0, 12, 18, 8, 20, 10, 14, 16, 5]"
            ]
          },
          "execution_count": 16,
          "metadata": {},
          "output_type": "execute_result"
        }
      ],
      "source": [
        "# indices of the testing dataset\n",
        "\n",
        "test_index = []\n",
        "for i,_ in enumerate(test_list):\n",
        "    idx = df1[df1.questions == test_list[i]].index[0]\n",
        "    test_index.append(idx)\n",
        "test_index"
      ]
    },
    {
      "cell_type": "code",
      "execution_count": 17,
      "metadata": {
        "colab": {
          "base_uri": "https://localhost:8080/"
        },
        "id": "Reko6L-LUs6e",
        "outputId": "30ace821-537d-4573-980b-787511baabf6"
      },
      "outputs": [
        {
          "data": {
            "text/plain": [
              "[1, 2, 4, 6, 7, 9, 11, 13, 15, 17, 19, 21]"
            ]
          },
          "execution_count": 17,
          "metadata": {},
          "output_type": "execute_result"
        }
      ],
      "source": [
        "# train indices are the all indices minus the testing indices \n",
        "\n",
        "train_index = [i for i in df1.index if i not in test_index]\n",
        "train_index "
      ]
    },
    {
      "cell_type": "code",
      "execution_count": 18,
      "metadata": {
        "id": "u-ksA3SrUs3a"
      },
      "outputs": [],
      "source": [
        "def convert_seq(df,feature):\n",
        "#     text = ' '.join(list(vocab.keys()))\n",
        "    t = Tokenizer()\n",
        "    entries = [entry for entry in df[feature]]\n",
        "    print(entries)\n",
        "    print('----')\n",
        "    t.fit_on_texts(entries)\n",
        "    joblib.dump(t,'tokenizer_t.pkl')   # why a pkl file\n",
        "    vocab_size = len(t.word_index) +1 # +1 for oov \n",
        "    print(t.word_index)\n",
        "    entries = [entry for entry in df[feature]]\n",
        "    max_length = max([len(s.split()) for s in entries])\n",
        "    print('----')\n",
        "    print(\"max length of string is : \",max_length)\n",
        "    print('----')\n",
        "    encoded = t.texts_to_sequences(entries)\n",
        "    print(encoded)\n",
        "    padded = pad_sequences(encoded, maxlen=max_length, padding='post')\n",
        "    print('----')\n",
        "    print(padded)\n",
        "    return padded, vocab_size"
      ]
    },
    {
      "cell_type": "markdown",
      "metadata": {
        "id": "VjFFIlul53UZ"
      },
      "source": [
        "**fit_on_texts** updates internal vocabulary based on a list of texts. This method creates the vocabulary index based on word frequency. 0 is reserved for padding. So lower integer means more frequent word (often the first few are stop words because they appear a lot)."
      ]
    },
    {
      "cell_type": "markdown",
      "metadata": {
        "id": "z5a_RLov7R2s"
      },
      "source": [
        "Now that we have a vocabulary of words in the dataset, **each of the patterns can be encoded into numerical features for modeling, using any of the common text encoding techniques—count vectorizer**, term frequency-inverse document frequency (TF-IDF), hashing, etc.\n",
        "\n",
        "Using TensorFlow.Keras text_to_sequence, we can **encode each pattern corpus to vectorize a text corpus by turning each text into either a sequence of integers** (each integer being the index of a token in a dictionary) or into a vector where the coefficient for each token could be binary, based on word count which is based on TF-IDF. The resulting vectors will be post-padded with zeros so as to equal the length of the vectors."
      ]
    },
    {
      "cell_type": "code",
      "execution_count": 19,
      "metadata": {
        "colab": {
          "base_uri": "https://localhost:8080/"
        },
        "id": "GP07TFsDUs0e",
        "outputId": "7c2ace6d-31ad-464f-edb9-e0e606ad1f82"
      },
      "outputs": [
        {
          "name": "stdout",
          "output_type": "stream",
          "text": [
            "['What does it mean to have a mental illness?', 'What is mental health illness', 'Describe mental health illness', 'Who does mental illness affect?', 'Who is affected by mental illness', 'What causes mental illness?', 'What leads to mental illness?', 'how does one get mentally ill?', 'Can people with mental illness recover?', 'Is it possible to recover from mental illness', 'I know someone who appears to have such symptoms?', 'What are the steps to be followed incase of symptoms', 'How to find mental health professional for myself', 'How to find mental health professional?', 'What treatment options are available?', 'How can one recover?', 'How to become involved in treatment?', 'What should I keep in mind if I begin treatment?', 'What is the difference between mental health professionals?', 'What are the different types of mental health professionals present?', 'How can I find a mental health professional right myself?', 'How to find the right mental health professional?']\n",
            "----\n",
            "{'mental': 1, 'what': 2, 'to': 3, 'illness': 4, 'health': 5, 'how': 6, 'is': 7, 'i': 8, 'the': 9, 'find': 10, 'professional': 11, 'does': 12, 'who': 13, 'can': 14, 'recover': 15, 'are': 16, 'treatment': 17, 'it': 18, 'have': 19, 'a': 20, 'one': 21, 'symptoms': 22, 'of': 23, 'myself': 24, 'in': 25, 'professionals': 26, 'right': 27, 'mean': 28, 'describe': 29, 'affect': 30, 'affected': 31, 'by': 32, 'causes': 33, 'leads': 34, 'get': 35, 'mentally': 36, 'ill': 37, 'people': 38, 'with': 39, 'possible': 40, 'from': 41, 'know': 42, 'someone': 43, 'appears': 44, 'such': 45, 'steps': 46, 'be': 47, 'followed': 48, 'incase': 49, 'for': 50, 'options': 51, 'available': 52, 'become': 53, 'involved': 54, 'should': 55, 'keep': 56, 'mind': 57, 'if': 58, 'begin': 59, 'difference': 60, 'between': 61, 'different': 62, 'types': 63, 'present': 64}\n",
            "----\n",
            "max length of string is :  10\n",
            "----\n",
            "[[2, 12, 18, 28, 3, 19, 20, 1, 4], [2, 7, 1, 5, 4], [29, 1, 5, 4], [13, 12, 1, 4, 30], [13, 7, 31, 32, 1, 4], [2, 33, 1, 4], [2, 34, 3, 1, 4], [6, 12, 21, 35, 36, 37], [14, 38, 39, 1, 4, 15], [7, 18, 40, 3, 15, 41, 1, 4], [8, 42, 43, 13, 44, 3, 19, 45, 22], [2, 16, 9, 46, 3, 47, 48, 49, 23, 22], [6, 3, 10, 1, 5, 11, 50, 24], [6, 3, 10, 1, 5, 11], [2, 17, 51, 16, 52], [6, 14, 21, 15], [6, 3, 53, 54, 25, 17], [2, 55, 8, 56, 25, 57, 58, 8, 59, 17], [2, 7, 9, 60, 61, 1, 5, 26], [2, 16, 9, 62, 63, 23, 1, 5, 26, 64], [6, 14, 8, 10, 20, 1, 5, 11, 27, 24], [6, 3, 10, 9, 27, 1, 5, 11]]\n",
            "----\n",
            "[[ 2 12 18 28  3 19 20  1  4  0]\n",
            " [ 2  7  1  5  4  0  0  0  0  0]\n",
            " [29  1  5  4  0  0  0  0  0  0]\n",
            " [13 12  1  4 30  0  0  0  0  0]\n",
            " [13  7 31 32  1  4  0  0  0  0]\n",
            " [ 2 33  1  4  0  0  0  0  0  0]\n",
            " [ 2 34  3  1  4  0  0  0  0  0]\n",
            " [ 6 12 21 35 36 37  0  0  0  0]\n",
            " [14 38 39  1  4 15  0  0  0  0]\n",
            " [ 7 18 40  3 15 41  1  4  0  0]\n",
            " [ 8 42 43 13 44  3 19 45 22  0]\n",
            " [ 2 16  9 46  3 47 48 49 23 22]\n",
            " [ 6  3 10  1  5 11 50 24  0  0]\n",
            " [ 6  3 10  1  5 11  0  0  0  0]\n",
            " [ 2 17 51 16 52  0  0  0  0  0]\n",
            " [ 6 14 21 15  0  0  0  0  0  0]\n",
            " [ 6  3 53 54 25 17  0  0  0  0]\n",
            " [ 2 55  8 56 25 57 58  8 59 17]\n",
            " [ 2  7  9 60 61  1  5 26  0  0]\n",
            " [ 2 16  9 62 63 23  1  5 26 64]\n",
            " [ 6 14  8 10 20  1  5 11 27 24]\n",
            " [ 6  3 10  9 27  1  5 11  0  0]]\n"
          ]
        }
      ],
      "source": [
        "X,vocab_size = convert_seq(df1,'questions')"
      ]
    },
    {
      "cell_type": "code",
      "execution_count": 20,
      "metadata": {
        "id": "TjqSgtug5uSU"
      },
      "outputs": [],
      "source": [
        "with open('tokenizer_t.pkl', 'rb') as f:\n",
        "    data = pickle.load(f)"
      ]
    },
    {
      "cell_type": "code",
      "execution_count": 21,
      "metadata": {
        "colab": {
          "base_uri": "https://localhost:8080/"
        },
        "id": "Ww0VWLGV6WDo",
        "outputId": "590e3660-78a5-4e56-fac3-3585f7a55cae"
      },
      "outputs": [
        {
          "data": {
            "text/plain": [
              "{1: 'mental',\n",
              " 2: 'what',\n",
              " 3: 'to',\n",
              " 4: 'illness',\n",
              " 5: 'health',\n",
              " 6: 'how',\n",
              " 7: 'is',\n",
              " 8: 'i',\n",
              " 9: 'the',\n",
              " 10: 'find',\n",
              " 11: 'professional',\n",
              " 12: 'does',\n",
              " 13: 'who',\n",
              " 14: 'can',\n",
              " 15: 'recover',\n",
              " 16: 'are',\n",
              " 17: 'treatment',\n",
              " 18: 'it',\n",
              " 19: 'have',\n",
              " 20: 'a',\n",
              " 21: 'one',\n",
              " 22: 'symptoms',\n",
              " 23: 'of',\n",
              " 24: 'myself',\n",
              " 25: 'in',\n",
              " 26: 'professionals',\n",
              " 27: 'right',\n",
              " 28: 'mean',\n",
              " 29: 'describe',\n",
              " 30: 'affect',\n",
              " 31: 'affected',\n",
              " 32: 'by',\n",
              " 33: 'causes',\n",
              " 34: 'leads',\n",
              " 35: 'get',\n",
              " 36: 'mentally',\n",
              " 37: 'ill',\n",
              " 38: 'people',\n",
              " 39: 'with',\n",
              " 40: 'possible',\n",
              " 41: 'from',\n",
              " 42: 'know',\n",
              " 43: 'someone',\n",
              " 44: 'appears',\n",
              " 45: 'such',\n",
              " 46: 'steps',\n",
              " 47: 'be',\n",
              " 48: 'followed',\n",
              " 49: 'incase',\n",
              " 50: 'for',\n",
              " 51: 'options',\n",
              " 52: 'available',\n",
              " 53: 'become',\n",
              " 54: 'involved',\n",
              " 55: 'should',\n",
              " 56: 'keep',\n",
              " 57: 'mind',\n",
              " 58: 'if',\n",
              " 59: 'begin',\n",
              " 60: 'difference',\n",
              " 61: 'between',\n",
              " 62: 'different',\n",
              " 63: 'types',\n",
              " 64: 'present'}"
            ]
          },
          "execution_count": 21,
          "metadata": {},
          "output_type": "execute_result"
        }
      ],
      "source": [
        "data.index_word"
      ]
    },
    {
      "cell_type": "code",
      "execution_count": 22,
      "metadata": {
        "colab": {
          "base_uri": "https://localhost:8080/"
        },
        "id": "4TKUtsd851W4",
        "outputId": "a5e422af-11a5-4bdb-ddfc-f0784fa84e4f"
      },
      "outputs": [
        {
          "data": {
            "text/plain": [
              "OrderedDict([('what', 9),\n",
              "             ('does', 3),\n",
              "             ('it', 2),\n",
              "             ('mean', 1),\n",
              "             ('to', 9),\n",
              "             ('have', 2),\n",
              "             ('a', 2),\n",
              "             ('mental', 15),\n",
              "             ('illness', 9),\n",
              "             ('is', 4),\n",
              "             ('health', 8),\n",
              "             ('describe', 1),\n",
              "             ('who', 3),\n",
              "             ('affect', 1),\n",
              "             ('affected', 1),\n",
              "             ('by', 1),\n",
              "             ('causes', 1),\n",
              "             ('leads', 1),\n",
              "             ('how', 7),\n",
              "             ('one', 2),\n",
              "             ('get', 1),\n",
              "             ('mentally', 1),\n",
              "             ('ill', 1),\n",
              "             ('can', 3),\n",
              "             ('people', 1),\n",
              "             ('with', 1),\n",
              "             ('recover', 3),\n",
              "             ('possible', 1),\n",
              "             ('from', 1),\n",
              "             ('i', 4),\n",
              "             ('know', 1),\n",
              "             ('someone', 1),\n",
              "             ('appears', 1),\n",
              "             ('such', 1),\n",
              "             ('symptoms', 2),\n",
              "             ('are', 3),\n",
              "             ('the', 4),\n",
              "             ('steps', 1),\n",
              "             ('be', 1),\n",
              "             ('followed', 1),\n",
              "             ('incase', 1),\n",
              "             ('of', 2),\n",
              "             ('find', 4),\n",
              "             ('professional', 4),\n",
              "             ('for', 1),\n",
              "             ('myself', 2),\n",
              "             ('treatment', 3),\n",
              "             ('options', 1),\n",
              "             ('available', 1),\n",
              "             ('become', 1),\n",
              "             ('involved', 1),\n",
              "             ('in', 2),\n",
              "             ('should', 1),\n",
              "             ('keep', 1),\n",
              "             ('mind', 1),\n",
              "             ('if', 1),\n",
              "             ('begin', 1),\n",
              "             ('difference', 1),\n",
              "             ('between', 1),\n",
              "             ('professionals', 2),\n",
              "             ('different', 1),\n",
              "             ('types', 1),\n",
              "             ('present', 1),\n",
              "             ('right', 2)])"
            ]
          },
          "execution_count": 22,
          "metadata": {},
          "output_type": "execute_result"
        }
      ],
      "source": [
        "data.word_counts"
      ]
    },
    {
      "cell_type": "code",
      "execution_count": 23,
      "metadata": {
        "colab": {
          "base_uri": "https://localhost:8080/"
        },
        "id": "gExivERw6WdD",
        "outputId": "9f90dcea-abdc-4aff-cd32-e27616f2ddbe"
      },
      "outputs": [
        {
          "data": {
            "text/plain": [
              "array([[ 2, 12, 18, 28,  3, 19, 20,  1,  4,  0],\n",
              "       [ 2,  7,  1,  5,  4,  0,  0,  0,  0,  0],\n",
              "       [29,  1,  5,  4,  0,  0,  0,  0,  0,  0],\n",
              "       [13, 12,  1,  4, 30,  0,  0,  0,  0,  0],\n",
              "       [13,  7, 31, 32,  1,  4,  0,  0,  0,  0],\n",
              "       [ 2, 33,  1,  4,  0,  0,  0,  0,  0,  0],\n",
              "       [ 2, 34,  3,  1,  4,  0,  0,  0,  0,  0],\n",
              "       [ 6, 12, 21, 35, 36, 37,  0,  0,  0,  0],\n",
              "       [14, 38, 39,  1,  4, 15,  0,  0,  0,  0],\n",
              "       [ 7, 18, 40,  3, 15, 41,  1,  4,  0,  0],\n",
              "       [ 8, 42, 43, 13, 44,  3, 19, 45, 22,  0],\n",
              "       [ 2, 16,  9, 46,  3, 47, 48, 49, 23, 22],\n",
              "       [ 6,  3, 10,  1,  5, 11, 50, 24,  0,  0],\n",
              "       [ 6,  3, 10,  1,  5, 11,  0,  0,  0,  0],\n",
              "       [ 2, 17, 51, 16, 52,  0,  0,  0,  0,  0],\n",
              "       [ 6, 14, 21, 15,  0,  0,  0,  0,  0,  0],\n",
              "       [ 6,  3, 53, 54, 25, 17,  0,  0,  0,  0],\n",
              "       [ 2, 55,  8, 56, 25, 57, 58,  8, 59, 17],\n",
              "       [ 2,  7,  9, 60, 61,  1,  5, 26,  0,  0],\n",
              "       [ 2, 16,  9, 62, 63, 23,  1,  5, 26, 64],\n",
              "       [ 6, 14,  8, 10, 20,  1,  5, 11, 27, 24],\n",
              "       [ 6,  3, 10,  9, 27,  1,  5, 11,  0,  0]])"
            ]
          },
          "execution_count": 23,
          "metadata": {},
          "output_type": "execute_result"
        }
      ],
      "source": [
        "X"
      ]
    },
    {
      "cell_type": "code",
      "execution_count": 24,
      "metadata": {
        "colab": {
          "base_uri": "https://localhost:8080/"
        },
        "id": "bimUOhFb6Y_9",
        "outputId": "91159b95-22dd-4f6f-a8bd-17d10ebf9c0f"
      },
      "outputs": [
        {
          "data": {
            "text/plain": [
              "65"
            ]
          },
          "execution_count": 24,
          "metadata": {},
          "output_type": "execute_result"
        }
      ],
      "source": [
        "vocab_size"
      ]
    },
    {
      "cell_type": "code",
      "execution_count": 25,
      "metadata": {
        "id": "4cKWHDabXLg_"
      },
      "outputs": [],
      "source": [
        "df_encoded = pd.DataFrame(X)"
      ]
    },
    {
      "cell_type": "code",
      "execution_count": 26,
      "metadata": {
        "colab": {
          "base_uri": "https://localhost:8080/",
          "height": 726
        },
        "id": "wfjo-4088OnX",
        "outputId": "d6f6a60e-7f8e-40f5-ca50-69062a34d4fa"
      },
      "outputs": [
        {
          "data": {
            "text/html": [
              "<div>\n",
              "<style scoped>\n",
              "    .dataframe tbody tr th:only-of-type {\n",
              "        vertical-align: middle;\n",
              "    }\n",
              "\n",
              "    .dataframe tbody tr th {\n",
              "        vertical-align: top;\n",
              "    }\n",
              "\n",
              "    .dataframe thead th {\n",
              "        text-align: right;\n",
              "    }\n",
              "</style>\n",
              "<table border=\"1\" class=\"dataframe\">\n",
              "  <thead>\n",
              "    <tr style=\"text-align: right;\">\n",
              "      <th></th>\n",
              "      <th>0</th>\n",
              "      <th>1</th>\n",
              "      <th>2</th>\n",
              "      <th>3</th>\n",
              "      <th>4</th>\n",
              "      <th>5</th>\n",
              "      <th>6</th>\n",
              "      <th>7</th>\n",
              "      <th>8</th>\n",
              "      <th>9</th>\n",
              "    </tr>\n",
              "  </thead>\n",
              "  <tbody>\n",
              "    <tr>\n",
              "      <th>0</th>\n",
              "      <td>2</td>\n",
              "      <td>12</td>\n",
              "      <td>18</td>\n",
              "      <td>28</td>\n",
              "      <td>3</td>\n",
              "      <td>19</td>\n",
              "      <td>20</td>\n",
              "      <td>1</td>\n",
              "      <td>4</td>\n",
              "      <td>0</td>\n",
              "    </tr>\n",
              "    <tr>\n",
              "      <th>1</th>\n",
              "      <td>2</td>\n",
              "      <td>7</td>\n",
              "      <td>1</td>\n",
              "      <td>5</td>\n",
              "      <td>4</td>\n",
              "      <td>0</td>\n",
              "      <td>0</td>\n",
              "      <td>0</td>\n",
              "      <td>0</td>\n",
              "      <td>0</td>\n",
              "    </tr>\n",
              "    <tr>\n",
              "      <th>2</th>\n",
              "      <td>29</td>\n",
              "      <td>1</td>\n",
              "      <td>5</td>\n",
              "      <td>4</td>\n",
              "      <td>0</td>\n",
              "      <td>0</td>\n",
              "      <td>0</td>\n",
              "      <td>0</td>\n",
              "      <td>0</td>\n",
              "      <td>0</td>\n",
              "    </tr>\n",
              "    <tr>\n",
              "      <th>3</th>\n",
              "      <td>13</td>\n",
              "      <td>12</td>\n",
              "      <td>1</td>\n",
              "      <td>4</td>\n",
              "      <td>30</td>\n",
              "      <td>0</td>\n",
              "      <td>0</td>\n",
              "      <td>0</td>\n",
              "      <td>0</td>\n",
              "      <td>0</td>\n",
              "    </tr>\n",
              "    <tr>\n",
              "      <th>4</th>\n",
              "      <td>13</td>\n",
              "      <td>7</td>\n",
              "      <td>31</td>\n",
              "      <td>32</td>\n",
              "      <td>1</td>\n",
              "      <td>4</td>\n",
              "      <td>0</td>\n",
              "      <td>0</td>\n",
              "      <td>0</td>\n",
              "      <td>0</td>\n",
              "    </tr>\n",
              "    <tr>\n",
              "      <th>5</th>\n",
              "      <td>2</td>\n",
              "      <td>33</td>\n",
              "      <td>1</td>\n",
              "      <td>4</td>\n",
              "      <td>0</td>\n",
              "      <td>0</td>\n",
              "      <td>0</td>\n",
              "      <td>0</td>\n",
              "      <td>0</td>\n",
              "      <td>0</td>\n",
              "    </tr>\n",
              "    <tr>\n",
              "      <th>6</th>\n",
              "      <td>2</td>\n",
              "      <td>34</td>\n",
              "      <td>3</td>\n",
              "      <td>1</td>\n",
              "      <td>4</td>\n",
              "      <td>0</td>\n",
              "      <td>0</td>\n",
              "      <td>0</td>\n",
              "      <td>0</td>\n",
              "      <td>0</td>\n",
              "    </tr>\n",
              "    <tr>\n",
              "      <th>7</th>\n",
              "      <td>6</td>\n",
              "      <td>12</td>\n",
              "      <td>21</td>\n",
              "      <td>35</td>\n",
              "      <td>36</td>\n",
              "      <td>37</td>\n",
              "      <td>0</td>\n",
              "      <td>0</td>\n",
              "      <td>0</td>\n",
              "      <td>0</td>\n",
              "    </tr>\n",
              "    <tr>\n",
              "      <th>8</th>\n",
              "      <td>14</td>\n",
              "      <td>38</td>\n",
              "      <td>39</td>\n",
              "      <td>1</td>\n",
              "      <td>4</td>\n",
              "      <td>15</td>\n",
              "      <td>0</td>\n",
              "      <td>0</td>\n",
              "      <td>0</td>\n",
              "      <td>0</td>\n",
              "    </tr>\n",
              "    <tr>\n",
              "      <th>9</th>\n",
              "      <td>7</td>\n",
              "      <td>18</td>\n",
              "      <td>40</td>\n",
              "      <td>3</td>\n",
              "      <td>15</td>\n",
              "      <td>41</td>\n",
              "      <td>1</td>\n",
              "      <td>4</td>\n",
              "      <td>0</td>\n",
              "      <td>0</td>\n",
              "    </tr>\n",
              "    <tr>\n",
              "      <th>10</th>\n",
              "      <td>8</td>\n",
              "      <td>42</td>\n",
              "      <td>43</td>\n",
              "      <td>13</td>\n",
              "      <td>44</td>\n",
              "      <td>3</td>\n",
              "      <td>19</td>\n",
              "      <td>45</td>\n",
              "      <td>22</td>\n",
              "      <td>0</td>\n",
              "    </tr>\n",
              "    <tr>\n",
              "      <th>11</th>\n",
              "      <td>2</td>\n",
              "      <td>16</td>\n",
              "      <td>9</td>\n",
              "      <td>46</td>\n",
              "      <td>3</td>\n",
              "      <td>47</td>\n",
              "      <td>48</td>\n",
              "      <td>49</td>\n",
              "      <td>23</td>\n",
              "      <td>22</td>\n",
              "    </tr>\n",
              "    <tr>\n",
              "      <th>12</th>\n",
              "      <td>6</td>\n",
              "      <td>3</td>\n",
              "      <td>10</td>\n",
              "      <td>1</td>\n",
              "      <td>5</td>\n",
              "      <td>11</td>\n",
              "      <td>50</td>\n",
              "      <td>24</td>\n",
              "      <td>0</td>\n",
              "      <td>0</td>\n",
              "    </tr>\n",
              "    <tr>\n",
              "      <th>13</th>\n",
              "      <td>6</td>\n",
              "      <td>3</td>\n",
              "      <td>10</td>\n",
              "      <td>1</td>\n",
              "      <td>5</td>\n",
              "      <td>11</td>\n",
              "      <td>0</td>\n",
              "      <td>0</td>\n",
              "      <td>0</td>\n",
              "      <td>0</td>\n",
              "    </tr>\n",
              "    <tr>\n",
              "      <th>14</th>\n",
              "      <td>2</td>\n",
              "      <td>17</td>\n",
              "      <td>51</td>\n",
              "      <td>16</td>\n",
              "      <td>52</td>\n",
              "      <td>0</td>\n",
              "      <td>0</td>\n",
              "      <td>0</td>\n",
              "      <td>0</td>\n",
              "      <td>0</td>\n",
              "    </tr>\n",
              "    <tr>\n",
              "      <th>15</th>\n",
              "      <td>6</td>\n",
              "      <td>14</td>\n",
              "      <td>21</td>\n",
              "      <td>15</td>\n",
              "      <td>0</td>\n",
              "      <td>0</td>\n",
              "      <td>0</td>\n",
              "      <td>0</td>\n",
              "      <td>0</td>\n",
              "      <td>0</td>\n",
              "    </tr>\n",
              "    <tr>\n",
              "      <th>16</th>\n",
              "      <td>6</td>\n",
              "      <td>3</td>\n",
              "      <td>53</td>\n",
              "      <td>54</td>\n",
              "      <td>25</td>\n",
              "      <td>17</td>\n",
              "      <td>0</td>\n",
              "      <td>0</td>\n",
              "      <td>0</td>\n",
              "      <td>0</td>\n",
              "    </tr>\n",
              "    <tr>\n",
              "      <th>17</th>\n",
              "      <td>2</td>\n",
              "      <td>55</td>\n",
              "      <td>8</td>\n",
              "      <td>56</td>\n",
              "      <td>25</td>\n",
              "      <td>57</td>\n",
              "      <td>58</td>\n",
              "      <td>8</td>\n",
              "      <td>59</td>\n",
              "      <td>17</td>\n",
              "    </tr>\n",
              "    <tr>\n",
              "      <th>18</th>\n",
              "      <td>2</td>\n",
              "      <td>7</td>\n",
              "      <td>9</td>\n",
              "      <td>60</td>\n",
              "      <td>61</td>\n",
              "      <td>1</td>\n",
              "      <td>5</td>\n",
              "      <td>26</td>\n",
              "      <td>0</td>\n",
              "      <td>0</td>\n",
              "    </tr>\n",
              "    <tr>\n",
              "      <th>19</th>\n",
              "      <td>2</td>\n",
              "      <td>16</td>\n",
              "      <td>9</td>\n",
              "      <td>62</td>\n",
              "      <td>63</td>\n",
              "      <td>23</td>\n",
              "      <td>1</td>\n",
              "      <td>5</td>\n",
              "      <td>26</td>\n",
              "      <td>64</td>\n",
              "    </tr>\n",
              "    <tr>\n",
              "      <th>20</th>\n",
              "      <td>6</td>\n",
              "      <td>14</td>\n",
              "      <td>8</td>\n",
              "      <td>10</td>\n",
              "      <td>20</td>\n",
              "      <td>1</td>\n",
              "      <td>5</td>\n",
              "      <td>11</td>\n",
              "      <td>27</td>\n",
              "      <td>24</td>\n",
              "    </tr>\n",
              "    <tr>\n",
              "      <th>21</th>\n",
              "      <td>6</td>\n",
              "      <td>3</td>\n",
              "      <td>10</td>\n",
              "      <td>9</td>\n",
              "      <td>27</td>\n",
              "      <td>1</td>\n",
              "      <td>5</td>\n",
              "      <td>11</td>\n",
              "      <td>0</td>\n",
              "      <td>0</td>\n",
              "    </tr>\n",
              "  </tbody>\n",
              "</table>\n",
              "</div>"
            ],
            "text/plain": [
              "     0   1   2   3   4   5   6   7   8   9\n",
              "0    2  12  18  28   3  19  20   1   4   0\n",
              "1    2   7   1   5   4   0   0   0   0   0\n",
              "2   29   1   5   4   0   0   0   0   0   0\n",
              "3   13  12   1   4  30   0   0   0   0   0\n",
              "4   13   7  31  32   1   4   0   0   0   0\n",
              "5    2  33   1   4   0   0   0   0   0   0\n",
              "6    2  34   3   1   4   0   0   0   0   0\n",
              "7    6  12  21  35  36  37   0   0   0   0\n",
              "8   14  38  39   1   4  15   0   0   0   0\n",
              "9    7  18  40   3  15  41   1   4   0   0\n",
              "10   8  42  43  13  44   3  19  45  22   0\n",
              "11   2  16   9  46   3  47  48  49  23  22\n",
              "12   6   3  10   1   5  11  50  24   0   0\n",
              "13   6   3  10   1   5  11   0   0   0   0\n",
              "14   2  17  51  16  52   0   0   0   0   0\n",
              "15   6  14  21  15   0   0   0   0   0   0\n",
              "16   6   3  53  54  25  17   0   0   0   0\n",
              "17   2  55   8  56  25  57  58   8  59  17\n",
              "18   2   7   9  60  61   1   5  26   0   0\n",
              "19   2  16   9  62  63  23   1   5  26  64\n",
              "20   6  14   8  10  20   1   5  11  27  24\n",
              "21   6   3  10   9  27   1   5  11   0   0"
            ]
          },
          "execution_count": 26,
          "metadata": {},
          "output_type": "execute_result"
        }
      ],
      "source": [
        "df_encoded"
      ]
    },
    {
      "cell_type": "code",
      "execution_count": 27,
      "metadata": {
        "colab": {
          "base_uri": "https://localhost:8080/",
          "height": 357
        },
        "id": "Dje2hCaJ8IPc",
        "outputId": "3a3d5190-13bc-4118-f953-07d0ed5dd3de"
      },
      "outputs": [
        {
          "data": {
            "text/html": [
              "<div>\n",
              "<style scoped>\n",
              "    .dataframe tbody tr th:only-of-type {\n",
              "        vertical-align: middle;\n",
              "    }\n",
              "\n",
              "    .dataframe tbody tr th {\n",
              "        vertical-align: top;\n",
              "    }\n",
              "\n",
              "    .dataframe thead th {\n",
              "        text-align: right;\n",
              "    }\n",
              "</style>\n",
              "<table border=\"1\" class=\"dataframe\">\n",
              "  <thead>\n",
              "    <tr style=\"text-align: right;\">\n",
              "      <th></th>\n",
              "      <th>questions</th>\n",
              "      <th>labels</th>\n",
              "    </tr>\n",
              "  </thead>\n",
              "  <tbody>\n",
              "    <tr>\n",
              "      <th>0</th>\n",
              "      <td>What does it mean to have a mental illness?</td>\n",
              "      <td>definition</td>\n",
              "    </tr>\n",
              "    <tr>\n",
              "      <th>1</th>\n",
              "      <td>What is mental health illness</td>\n",
              "      <td>definition</td>\n",
              "    </tr>\n",
              "    <tr>\n",
              "      <th>2</th>\n",
              "      <td>Describe mental health illness</td>\n",
              "      <td>definition</td>\n",
              "    </tr>\n",
              "    <tr>\n",
              "      <th>3</th>\n",
              "      <td>Who does mental illness affect?</td>\n",
              "      <td>affects_whom</td>\n",
              "    </tr>\n",
              "    <tr>\n",
              "      <th>4</th>\n",
              "      <td>Who is affected by mental illness</td>\n",
              "      <td>affects_whom</td>\n",
              "    </tr>\n",
              "    <tr>\n",
              "      <th>5</th>\n",
              "      <td>What causes mental illness?</td>\n",
              "      <td>what_causes</td>\n",
              "    </tr>\n",
              "    <tr>\n",
              "      <th>6</th>\n",
              "      <td>What leads to mental illness?</td>\n",
              "      <td>what_causes</td>\n",
              "    </tr>\n",
              "    <tr>\n",
              "      <th>7</th>\n",
              "      <td>how does one get mentally ill?</td>\n",
              "      <td>what_causes</td>\n",
              "    </tr>\n",
              "    <tr>\n",
              "      <th>8</th>\n",
              "      <td>Can people with mental illness recover?</td>\n",
              "      <td>recover</td>\n",
              "    </tr>\n",
              "    <tr>\n",
              "      <th>9</th>\n",
              "      <td>Is it possible to recover from mental illness</td>\n",
              "      <td>recover</td>\n",
              "    </tr>\n",
              "  </tbody>\n",
              "</table>\n",
              "</div>"
            ],
            "text/plain": [
              "                                       questions        labels\n",
              "0    What does it mean to have a mental illness?    definition\n",
              "1                  What is mental health illness    definition\n",
              "2                 Describe mental health illness    definition\n",
              "3                Who does mental illness affect?  affects_whom\n",
              "4              Who is affected by mental illness  affects_whom\n",
              "5                    What causes mental illness?   what_causes\n",
              "6                  What leads to mental illness?   what_causes\n",
              "7                 how does one get mentally ill?   what_causes\n",
              "8        Can people with mental illness recover?       recover\n",
              "9  Is it possible to recover from mental illness       recover"
            ]
          },
          "execution_count": 27,
          "metadata": {},
          "output_type": "execute_result"
        }
      ],
      "source": [
        "df1.head(10)"
      ]
    },
    {
      "cell_type": "code",
      "execution_count": 28,
      "metadata": {
        "colab": {
          "base_uri": "https://localhost:8080/",
          "height": 357
        },
        "id": "3Uu_JiN5XLdt",
        "outputId": "d83accbd-8cfe-4b46-9cc4-6b39a218172f"
      },
      "outputs": [
        {
          "data": {
            "text/html": [
              "<div>\n",
              "<style scoped>\n",
              "    .dataframe tbody tr th:only-of-type {\n",
              "        vertical-align: middle;\n",
              "    }\n",
              "\n",
              "    .dataframe tbody tr th {\n",
              "        vertical-align: top;\n",
              "    }\n",
              "\n",
              "    .dataframe thead th {\n",
              "        text-align: right;\n",
              "    }\n",
              "</style>\n",
              "<table border=\"1\" class=\"dataframe\">\n",
              "  <thead>\n",
              "    <tr style=\"text-align: right;\">\n",
              "      <th></th>\n",
              "      <th>0</th>\n",
              "      <th>1</th>\n",
              "      <th>2</th>\n",
              "      <th>3</th>\n",
              "      <th>4</th>\n",
              "      <th>5</th>\n",
              "      <th>6</th>\n",
              "      <th>7</th>\n",
              "      <th>8</th>\n",
              "      <th>9</th>\n",
              "      <th>labels</th>\n",
              "    </tr>\n",
              "  </thead>\n",
              "  <tbody>\n",
              "    <tr>\n",
              "      <th>0</th>\n",
              "      <td>2</td>\n",
              "      <td>12</td>\n",
              "      <td>18</td>\n",
              "      <td>28</td>\n",
              "      <td>3</td>\n",
              "      <td>19</td>\n",
              "      <td>20</td>\n",
              "      <td>1</td>\n",
              "      <td>4</td>\n",
              "      <td>0</td>\n",
              "      <td>definition</td>\n",
              "    </tr>\n",
              "    <tr>\n",
              "      <th>1</th>\n",
              "      <td>2</td>\n",
              "      <td>7</td>\n",
              "      <td>1</td>\n",
              "      <td>5</td>\n",
              "      <td>4</td>\n",
              "      <td>0</td>\n",
              "      <td>0</td>\n",
              "      <td>0</td>\n",
              "      <td>0</td>\n",
              "      <td>0</td>\n",
              "      <td>definition</td>\n",
              "    </tr>\n",
              "    <tr>\n",
              "      <th>2</th>\n",
              "      <td>29</td>\n",
              "      <td>1</td>\n",
              "      <td>5</td>\n",
              "      <td>4</td>\n",
              "      <td>0</td>\n",
              "      <td>0</td>\n",
              "      <td>0</td>\n",
              "      <td>0</td>\n",
              "      <td>0</td>\n",
              "      <td>0</td>\n",
              "      <td>definition</td>\n",
              "    </tr>\n",
              "    <tr>\n",
              "      <th>3</th>\n",
              "      <td>13</td>\n",
              "      <td>12</td>\n",
              "      <td>1</td>\n",
              "      <td>4</td>\n",
              "      <td>30</td>\n",
              "      <td>0</td>\n",
              "      <td>0</td>\n",
              "      <td>0</td>\n",
              "      <td>0</td>\n",
              "      <td>0</td>\n",
              "      <td>affects_whom</td>\n",
              "    </tr>\n",
              "    <tr>\n",
              "      <th>4</th>\n",
              "      <td>13</td>\n",
              "      <td>7</td>\n",
              "      <td>31</td>\n",
              "      <td>32</td>\n",
              "      <td>1</td>\n",
              "      <td>4</td>\n",
              "      <td>0</td>\n",
              "      <td>0</td>\n",
              "      <td>0</td>\n",
              "      <td>0</td>\n",
              "      <td>affects_whom</td>\n",
              "    </tr>\n",
              "    <tr>\n",
              "      <th>5</th>\n",
              "      <td>2</td>\n",
              "      <td>33</td>\n",
              "      <td>1</td>\n",
              "      <td>4</td>\n",
              "      <td>0</td>\n",
              "      <td>0</td>\n",
              "      <td>0</td>\n",
              "      <td>0</td>\n",
              "      <td>0</td>\n",
              "      <td>0</td>\n",
              "      <td>what_causes</td>\n",
              "    </tr>\n",
              "    <tr>\n",
              "      <th>6</th>\n",
              "      <td>2</td>\n",
              "      <td>34</td>\n",
              "      <td>3</td>\n",
              "      <td>1</td>\n",
              "      <td>4</td>\n",
              "      <td>0</td>\n",
              "      <td>0</td>\n",
              "      <td>0</td>\n",
              "      <td>0</td>\n",
              "      <td>0</td>\n",
              "      <td>what_causes</td>\n",
              "    </tr>\n",
              "    <tr>\n",
              "      <th>7</th>\n",
              "      <td>6</td>\n",
              "      <td>12</td>\n",
              "      <td>21</td>\n",
              "      <td>35</td>\n",
              "      <td>36</td>\n",
              "      <td>37</td>\n",
              "      <td>0</td>\n",
              "      <td>0</td>\n",
              "      <td>0</td>\n",
              "      <td>0</td>\n",
              "      <td>what_causes</td>\n",
              "    </tr>\n",
              "    <tr>\n",
              "      <th>8</th>\n",
              "      <td>14</td>\n",
              "      <td>38</td>\n",
              "      <td>39</td>\n",
              "      <td>1</td>\n",
              "      <td>4</td>\n",
              "      <td>15</td>\n",
              "      <td>0</td>\n",
              "      <td>0</td>\n",
              "      <td>0</td>\n",
              "      <td>0</td>\n",
              "      <td>recover</td>\n",
              "    </tr>\n",
              "    <tr>\n",
              "      <th>9</th>\n",
              "      <td>7</td>\n",
              "      <td>18</td>\n",
              "      <td>40</td>\n",
              "      <td>3</td>\n",
              "      <td>15</td>\n",
              "      <td>41</td>\n",
              "      <td>1</td>\n",
              "      <td>4</td>\n",
              "      <td>0</td>\n",
              "      <td>0</td>\n",
              "      <td>recover</td>\n",
              "    </tr>\n",
              "  </tbody>\n",
              "</table>\n",
              "</div>"
            ],
            "text/plain": [
              "    0   1   2   3   4   5   6  7  8  9        labels\n",
              "0   2  12  18  28   3  19  20  1  4  0    definition\n",
              "1   2   7   1   5   4   0   0  0  0  0    definition\n",
              "2  29   1   5   4   0   0   0  0  0  0    definition\n",
              "3  13  12   1   4  30   0   0  0  0  0  affects_whom\n",
              "4  13   7  31  32   1   4   0  0  0  0  affects_whom\n",
              "5   2  33   1   4   0   0   0  0  0  0   what_causes\n",
              "6   2  34   3   1   4   0   0  0  0  0   what_causes\n",
              "7   6  12  21  35  36  37   0  0  0  0   what_causes\n",
              "8  14  38  39   1   4  15   0  0  0  0       recover\n",
              "9   7  18  40   3  15  41   1  4  0  0       recover"
            ]
          },
          "execution_count": 28,
          "metadata": {},
          "output_type": "execute_result"
        }
      ],
      "source": [
        "df_encoded['labels'] = df1.labels\n",
        "df_encoded.head(10)"
      ]
    },
    {
      "cell_type": "code",
      "execution_count": 29,
      "metadata": {
        "colab": {
          "base_uri": "https://localhost:8080/",
          "height": 726
        },
        "id": "heGzmZM3XS4J",
        "outputId": "ed09e08b-e76f-48c2-da63-99e09df7e653"
      },
      "outputs": [
        {
          "data": {
            "text/html": [
              "<div>\n",
              "<style scoped>\n",
              "    .dataframe tbody tr th:only-of-type {\n",
              "        vertical-align: middle;\n",
              "    }\n",
              "\n",
              "    .dataframe tbody tr th {\n",
              "        vertical-align: top;\n",
              "    }\n",
              "\n",
              "    .dataframe thead th {\n",
              "        text-align: right;\n",
              "    }\n",
              "</style>\n",
              "<table border=\"1\" class=\"dataframe\">\n",
              "  <thead>\n",
              "    <tr style=\"text-align: right;\">\n",
              "      <th></th>\n",
              "      <th>0</th>\n",
              "      <th>1</th>\n",
              "      <th>2</th>\n",
              "      <th>3</th>\n",
              "      <th>4</th>\n",
              "      <th>5</th>\n",
              "      <th>6</th>\n",
              "      <th>7</th>\n",
              "      <th>8</th>\n",
              "      <th>9</th>\n",
              "      <th>labels</th>\n",
              "    </tr>\n",
              "  </thead>\n",
              "  <tbody>\n",
              "    <tr>\n",
              "      <th>0</th>\n",
              "      <td>2</td>\n",
              "      <td>12</td>\n",
              "      <td>18</td>\n",
              "      <td>28</td>\n",
              "      <td>3</td>\n",
              "      <td>19</td>\n",
              "      <td>20</td>\n",
              "      <td>1</td>\n",
              "      <td>4</td>\n",
              "      <td>0</td>\n",
              "      <td>definition</td>\n",
              "    </tr>\n",
              "    <tr>\n",
              "      <th>1</th>\n",
              "      <td>2</td>\n",
              "      <td>7</td>\n",
              "      <td>1</td>\n",
              "      <td>5</td>\n",
              "      <td>4</td>\n",
              "      <td>0</td>\n",
              "      <td>0</td>\n",
              "      <td>0</td>\n",
              "      <td>0</td>\n",
              "      <td>0</td>\n",
              "      <td>definition</td>\n",
              "    </tr>\n",
              "    <tr>\n",
              "      <th>2</th>\n",
              "      <td>29</td>\n",
              "      <td>1</td>\n",
              "      <td>5</td>\n",
              "      <td>4</td>\n",
              "      <td>0</td>\n",
              "      <td>0</td>\n",
              "      <td>0</td>\n",
              "      <td>0</td>\n",
              "      <td>0</td>\n",
              "      <td>0</td>\n",
              "      <td>definition</td>\n",
              "    </tr>\n",
              "    <tr>\n",
              "      <th>3</th>\n",
              "      <td>13</td>\n",
              "      <td>12</td>\n",
              "      <td>1</td>\n",
              "      <td>4</td>\n",
              "      <td>30</td>\n",
              "      <td>0</td>\n",
              "      <td>0</td>\n",
              "      <td>0</td>\n",
              "      <td>0</td>\n",
              "      <td>0</td>\n",
              "      <td>affects_whom</td>\n",
              "    </tr>\n",
              "    <tr>\n",
              "      <th>4</th>\n",
              "      <td>13</td>\n",
              "      <td>7</td>\n",
              "      <td>31</td>\n",
              "      <td>32</td>\n",
              "      <td>1</td>\n",
              "      <td>4</td>\n",
              "      <td>0</td>\n",
              "      <td>0</td>\n",
              "      <td>0</td>\n",
              "      <td>0</td>\n",
              "      <td>affects_whom</td>\n",
              "    </tr>\n",
              "    <tr>\n",
              "      <th>5</th>\n",
              "      <td>2</td>\n",
              "      <td>33</td>\n",
              "      <td>1</td>\n",
              "      <td>4</td>\n",
              "      <td>0</td>\n",
              "      <td>0</td>\n",
              "      <td>0</td>\n",
              "      <td>0</td>\n",
              "      <td>0</td>\n",
              "      <td>0</td>\n",
              "      <td>what_causes</td>\n",
              "    </tr>\n",
              "    <tr>\n",
              "      <th>6</th>\n",
              "      <td>2</td>\n",
              "      <td>34</td>\n",
              "      <td>3</td>\n",
              "      <td>1</td>\n",
              "      <td>4</td>\n",
              "      <td>0</td>\n",
              "      <td>0</td>\n",
              "      <td>0</td>\n",
              "      <td>0</td>\n",
              "      <td>0</td>\n",
              "      <td>what_causes</td>\n",
              "    </tr>\n",
              "    <tr>\n",
              "      <th>7</th>\n",
              "      <td>6</td>\n",
              "      <td>12</td>\n",
              "      <td>21</td>\n",
              "      <td>35</td>\n",
              "      <td>36</td>\n",
              "      <td>37</td>\n",
              "      <td>0</td>\n",
              "      <td>0</td>\n",
              "      <td>0</td>\n",
              "      <td>0</td>\n",
              "      <td>what_causes</td>\n",
              "    </tr>\n",
              "    <tr>\n",
              "      <th>8</th>\n",
              "      <td>14</td>\n",
              "      <td>38</td>\n",
              "      <td>39</td>\n",
              "      <td>1</td>\n",
              "      <td>4</td>\n",
              "      <td>15</td>\n",
              "      <td>0</td>\n",
              "      <td>0</td>\n",
              "      <td>0</td>\n",
              "      <td>0</td>\n",
              "      <td>recover</td>\n",
              "    </tr>\n",
              "    <tr>\n",
              "      <th>9</th>\n",
              "      <td>7</td>\n",
              "      <td>18</td>\n",
              "      <td>40</td>\n",
              "      <td>3</td>\n",
              "      <td>15</td>\n",
              "      <td>41</td>\n",
              "      <td>1</td>\n",
              "      <td>4</td>\n",
              "      <td>0</td>\n",
              "      <td>0</td>\n",
              "      <td>recover</td>\n",
              "    </tr>\n",
              "    <tr>\n",
              "      <th>10</th>\n",
              "      <td>8</td>\n",
              "      <td>42</td>\n",
              "      <td>43</td>\n",
              "      <td>13</td>\n",
              "      <td>44</td>\n",
              "      <td>3</td>\n",
              "      <td>19</td>\n",
              "      <td>45</td>\n",
              "      <td>22</td>\n",
              "      <td>0</td>\n",
              "      <td>steps</td>\n",
              "    </tr>\n",
              "    <tr>\n",
              "      <th>11</th>\n",
              "      <td>2</td>\n",
              "      <td>16</td>\n",
              "      <td>9</td>\n",
              "      <td>46</td>\n",
              "      <td>3</td>\n",
              "      <td>47</td>\n",
              "      <td>48</td>\n",
              "      <td>49</td>\n",
              "      <td>23</td>\n",
              "      <td>22</td>\n",
              "      <td>steps</td>\n",
              "    </tr>\n",
              "    <tr>\n",
              "      <th>12</th>\n",
              "      <td>6</td>\n",
              "      <td>3</td>\n",
              "      <td>10</td>\n",
              "      <td>1</td>\n",
              "      <td>5</td>\n",
              "      <td>11</td>\n",
              "      <td>50</td>\n",
              "      <td>24</td>\n",
              "      <td>0</td>\n",
              "      <td>0</td>\n",
              "      <td>find_help</td>\n",
              "    </tr>\n",
              "    <tr>\n",
              "      <th>13</th>\n",
              "      <td>6</td>\n",
              "      <td>3</td>\n",
              "      <td>10</td>\n",
              "      <td>1</td>\n",
              "      <td>5</td>\n",
              "      <td>11</td>\n",
              "      <td>0</td>\n",
              "      <td>0</td>\n",
              "      <td>0</td>\n",
              "      <td>0</td>\n",
              "      <td>find_help</td>\n",
              "    </tr>\n",
              "    <tr>\n",
              "      <th>14</th>\n",
              "      <td>2</td>\n",
              "      <td>17</td>\n",
              "      <td>51</td>\n",
              "      <td>16</td>\n",
              "      <td>52</td>\n",
              "      <td>0</td>\n",
              "      <td>0</td>\n",
              "      <td>0</td>\n",
              "      <td>0</td>\n",
              "      <td>0</td>\n",
              "      <td>treatement_options</td>\n",
              "    </tr>\n",
              "    <tr>\n",
              "      <th>15</th>\n",
              "      <td>6</td>\n",
              "      <td>14</td>\n",
              "      <td>21</td>\n",
              "      <td>15</td>\n",
              "      <td>0</td>\n",
              "      <td>0</td>\n",
              "      <td>0</td>\n",
              "      <td>0</td>\n",
              "      <td>0</td>\n",
              "      <td>0</td>\n",
              "      <td>treatement_options</td>\n",
              "    </tr>\n",
              "    <tr>\n",
              "      <th>16</th>\n",
              "      <td>6</td>\n",
              "      <td>3</td>\n",
              "      <td>53</td>\n",
              "      <td>54</td>\n",
              "      <td>25</td>\n",
              "      <td>17</td>\n",
              "      <td>0</td>\n",
              "      <td>0</td>\n",
              "      <td>0</td>\n",
              "      <td>0</td>\n",
              "      <td>treatment_tips</td>\n",
              "    </tr>\n",
              "    <tr>\n",
              "      <th>17</th>\n",
              "      <td>2</td>\n",
              "      <td>55</td>\n",
              "      <td>8</td>\n",
              "      <td>56</td>\n",
              "      <td>25</td>\n",
              "      <td>57</td>\n",
              "      <td>58</td>\n",
              "      <td>8</td>\n",
              "      <td>59</td>\n",
              "      <td>17</td>\n",
              "      <td>treatment_tips</td>\n",
              "    </tr>\n",
              "    <tr>\n",
              "      <th>18</th>\n",
              "      <td>2</td>\n",
              "      <td>7</td>\n",
              "      <td>9</td>\n",
              "      <td>60</td>\n",
              "      <td>61</td>\n",
              "      <td>1</td>\n",
              "      <td>5</td>\n",
              "      <td>26</td>\n",
              "      <td>0</td>\n",
              "      <td>0</td>\n",
              "      <td>professional_types</td>\n",
              "    </tr>\n",
              "    <tr>\n",
              "      <th>19</th>\n",
              "      <td>2</td>\n",
              "      <td>16</td>\n",
              "      <td>9</td>\n",
              "      <td>62</td>\n",
              "      <td>63</td>\n",
              "      <td>23</td>\n",
              "      <td>1</td>\n",
              "      <td>5</td>\n",
              "      <td>26</td>\n",
              "      <td>64</td>\n",
              "      <td>professional_types</td>\n",
              "    </tr>\n",
              "    <tr>\n",
              "      <th>20</th>\n",
              "      <td>6</td>\n",
              "      <td>14</td>\n",
              "      <td>8</td>\n",
              "      <td>10</td>\n",
              "      <td>20</td>\n",
              "      <td>1</td>\n",
              "      <td>5</td>\n",
              "      <td>11</td>\n",
              "      <td>27</td>\n",
              "      <td>24</td>\n",
              "      <td>right_professional</td>\n",
              "    </tr>\n",
              "    <tr>\n",
              "      <th>21</th>\n",
              "      <td>6</td>\n",
              "      <td>3</td>\n",
              "      <td>10</td>\n",
              "      <td>9</td>\n",
              "      <td>27</td>\n",
              "      <td>1</td>\n",
              "      <td>5</td>\n",
              "      <td>11</td>\n",
              "      <td>0</td>\n",
              "      <td>0</td>\n",
              "      <td>right_professional</td>\n",
              "    </tr>\n",
              "  </tbody>\n",
              "</table>\n",
              "</div>"
            ],
            "text/plain": [
              "     0   1   2   3   4   5   6   7   8   9              labels\n",
              "0    2  12  18  28   3  19  20   1   4   0          definition\n",
              "1    2   7   1   5   4   0   0   0   0   0          definition\n",
              "2   29   1   5   4   0   0   0   0   0   0          definition\n",
              "3   13  12   1   4  30   0   0   0   0   0        affects_whom\n",
              "4   13   7  31  32   1   4   0   0   0   0        affects_whom\n",
              "5    2  33   1   4   0   0   0   0   0   0         what_causes\n",
              "6    2  34   3   1   4   0   0   0   0   0         what_causes\n",
              "7    6  12  21  35  36  37   0   0   0   0         what_causes\n",
              "8   14  38  39   1   4  15   0   0   0   0             recover\n",
              "9    7  18  40   3  15  41   1   4   0   0             recover\n",
              "10   8  42  43  13  44   3  19  45  22   0               steps\n",
              "11   2  16   9  46   3  47  48  49  23  22               steps\n",
              "12   6   3  10   1   5  11  50  24   0   0           find_help\n",
              "13   6   3  10   1   5  11   0   0   0   0           find_help\n",
              "14   2  17  51  16  52   0   0   0   0   0  treatement_options\n",
              "15   6  14  21  15   0   0   0   0   0   0  treatement_options\n",
              "16   6   3  53  54  25  17   0   0   0   0      treatment_tips\n",
              "17   2  55   8  56  25  57  58   8  59  17      treatment_tips\n",
              "18   2   7   9  60  61   1   5  26   0   0  professional_types\n",
              "19   2  16   9  62  63  23   1   5  26  64  professional_types\n",
              "20   6  14   8  10  20   1   5  11  27  24  right_professional\n",
              "21   6   3  10   9  27   1   5  11   0   0  right_professional"
            ]
          },
          "execution_count": 29,
          "metadata": {},
          "output_type": "execute_result"
        }
      ],
      "source": [
        "df_encoded"
      ]
    },
    {
      "cell_type": "code",
      "execution_count": 30,
      "metadata": {
        "colab": {
          "base_uri": "https://localhost:8080/"
        },
        "id": "kxyYd8LvXSwB",
        "outputId": "32c053a6-2222-4c09-d36d-c2ace77ed244"
      },
      "outputs": [
        {
          "data": {
            "text/plain": [
              "array([1, 1, 1, 0, 0, 9, 9, 9, 4, 4, 6, 6, 2, 2, 7, 7, 8, 8, 3, 3, 5, 5])"
            ]
          },
          "execution_count": 30,
          "metadata": {},
          "output_type": "execute_result"
        }
      ],
      "source": [
        "from sklearn.preprocessing import LabelEncoder\n",
        "lable_enc = LabelEncoder()\n",
        "\n",
        "# encoding the labels\n",
        "\n",
        "labl = lable_enc.fit_transform(df_encoded.labels)\n",
        "labl"
      ]
    },
    {
      "cell_type": "code",
      "execution_count": 31,
      "metadata": {
        "colab": {
          "base_uri": "https://localhost:8080/"
        },
        "id": "EL0qCx9e_9Jm",
        "outputId": "e7ac0310-b592-4f3d-920f-acefda9bdeba"
      },
      "outputs": [
        {
          "data": {
            "text/plain": [
              "22"
            ]
          },
          "execution_count": 31,
          "metadata": {},
          "output_type": "execute_result"
        }
      ],
      "source": [
        "len(labl)"
      ]
    },
    {
      "cell_type": "code",
      "execution_count": 32,
      "metadata": {
        "colab": {
          "base_uri": "https://localhost:8080/"
        },
        "id": "XMC_1ZukXiDL",
        "outputId": "cd90cd74-9007-4df0-d558-f07cd0e9db15"
      },
      "outputs": [
        {
          "data": {
            "text/plain": [
              "{'definition': 1,\n",
              " 'affects_whom': 0,\n",
              " 'what_causes': 9,\n",
              " 'recover': 4,\n",
              " 'steps': 6,\n",
              " 'find_help': 2,\n",
              " 'treatement_options': 7,\n",
              " 'treatment_tips': 8,\n",
              " 'professional_types': 3,\n",
              " 'right_professional': 5}"
            ]
          },
          "execution_count": 32,
          "metadata": {},
          "output_type": "execute_result"
        }
      ],
      "source": [
        "mapper = {}\n",
        "for index,key in enumerate(df_encoded.labels):\n",
        "    if key not in mapper.keys():\n",
        "        mapper[key] = labl[index]\n",
        "mapper"
      ]
    },
    {
      "cell_type": "markdown",
      "metadata": {
        "id": "P3myx7GaAI5Q"
      },
      "source": [
        "Repeat the same for df2"
      ]
    },
    {
      "cell_type": "code",
      "execution_count": 33,
      "metadata": {
        "colab": {
          "base_uri": "https://localhost:8080/",
          "height": 203
        },
        "id": "4nCk2oQbXh_X",
        "outputId": "7fa8a86a-9bb1-40c5-9bbb-d08e0472e4f1"
      },
      "outputs": [
        {
          "data": {
            "text/html": [
              "<div>\n",
              "<style scoped>\n",
              "    .dataframe tbody tr th:only-of-type {\n",
              "        vertical-align: middle;\n",
              "    }\n",
              "\n",
              "    .dataframe tbody tr th {\n",
              "        vertical-align: top;\n",
              "    }\n",
              "\n",
              "    .dataframe thead th {\n",
              "        text-align: right;\n",
              "    }\n",
              "</style>\n",
              "<table border=\"1\" class=\"dataframe\">\n",
              "  <thead>\n",
              "    <tr style=\"text-align: right;\">\n",
              "      <th></th>\n",
              "      <th>response</th>\n",
              "      <th>labels</th>\n",
              "    </tr>\n",
              "  </thead>\n",
              "  <tbody>\n",
              "    <tr>\n",
              "      <th>0</th>\n",
              "      <td>Mental illnesses are health conditions that di...</td>\n",
              "      <td>definition</td>\n",
              "    </tr>\n",
              "    <tr>\n",
              "      <th>1</th>\n",
              "      <td>It is estimated that mental illness affects 1 ...</td>\n",
              "      <td>affects_whom</td>\n",
              "    </tr>\n",
              "    <tr>\n",
              "      <th>2</th>\n",
              "      <td>Symptoms of mental health disorders vary depen...</td>\n",
              "      <td>what_causes</td>\n",
              "    </tr>\n",
              "    <tr>\n",
              "      <th>3</th>\n",
              "      <td>When healing from mental illness, early identi...</td>\n",
              "      <td>recover</td>\n",
              "    </tr>\n",
              "    <tr>\n",
              "      <th>4</th>\n",
              "      <td>Although this website cannot substitute for pr...</td>\n",
              "      <td>steps</td>\n",
              "    </tr>\n",
              "  </tbody>\n",
              "</table>\n",
              "</div>"
            ],
            "text/plain": [
              "                                            response        labels\n",
              "0  Mental illnesses are health conditions that di...    definition\n",
              "1  It is estimated that mental illness affects 1 ...  affects_whom\n",
              "2  Symptoms of mental health disorders vary depen...   what_causes\n",
              "3  When healing from mental illness, early identi...       recover\n",
              "4  Although this website cannot substitute for pr...         steps"
            ]
          },
          "execution_count": 33,
          "metadata": {},
          "output_type": "execute_result"
        }
      ],
      "source": [
        "df2.head()"
      ]
    },
    {
      "cell_type": "code",
      "execution_count": 34,
      "metadata": {
        "colab": {
          "base_uri": "https://localhost:8080/",
          "height": 357
        },
        "id": "5mqpR_GuMPrc",
        "outputId": "4f2363e2-0a7b-45cf-b527-e4c108400f08"
      },
      "outputs": [
        {
          "data": {
            "text/html": [
              "<div>\n",
              "<style scoped>\n",
              "    .dataframe tbody tr th:only-of-type {\n",
              "        vertical-align: middle;\n",
              "    }\n",
              "\n",
              "    .dataframe tbody tr th {\n",
              "        vertical-align: top;\n",
              "    }\n",
              "\n",
              "    .dataframe thead th {\n",
              "        text-align: right;\n",
              "    }\n",
              "</style>\n",
              "<table border=\"1\" class=\"dataframe\">\n",
              "  <thead>\n",
              "    <tr style=\"text-align: right;\">\n",
              "      <th></th>\n",
              "      <th>response</th>\n",
              "      <th>labels</th>\n",
              "    </tr>\n",
              "  </thead>\n",
              "  <tbody>\n",
              "    <tr>\n",
              "      <th>0</th>\n",
              "      <td>Mental illnesses are health conditions that di...</td>\n",
              "      <td>definition</td>\n",
              "    </tr>\n",
              "    <tr>\n",
              "      <th>1</th>\n",
              "      <td>It is estimated that mental illness affects 1 ...</td>\n",
              "      <td>affects_whom</td>\n",
              "    </tr>\n",
              "    <tr>\n",
              "      <th>2</th>\n",
              "      <td>Symptoms of mental health disorders vary depen...</td>\n",
              "      <td>what_causes</td>\n",
              "    </tr>\n",
              "    <tr>\n",
              "      <th>3</th>\n",
              "      <td>When healing from mental illness, early identi...</td>\n",
              "      <td>recover</td>\n",
              "    </tr>\n",
              "    <tr>\n",
              "      <th>4</th>\n",
              "      <td>Although this website cannot substitute for pr...</td>\n",
              "      <td>steps</td>\n",
              "    </tr>\n",
              "    <tr>\n",
              "      <th>5</th>\n",
              "      <td>Feeling comfortable with the professional you ...</td>\n",
              "      <td>find_help</td>\n",
              "    </tr>\n",
              "    <tr>\n",
              "      <th>6</th>\n",
              "      <td>Just as there are different types of medicatio...</td>\n",
              "      <td>treatement_options</td>\n",
              "    </tr>\n",
              "    <tr>\n",
              "      <th>7</th>\n",
              "      <td>Since beginning treatment is a big step for in...</td>\n",
              "      <td>treatment_tips</td>\n",
              "    </tr>\n",
              "    <tr>\n",
              "      <th>8</th>\n",
              "      <td>There are many types of mental health professi...</td>\n",
              "      <td>professional_types</td>\n",
              "    </tr>\n",
              "    <tr>\n",
              "      <th>9</th>\n",
              "      <td>Feeling comfortable with the professional you ...</td>\n",
              "      <td>right_professional</td>\n",
              "    </tr>\n",
              "  </tbody>\n",
              "</table>\n",
              "</div>"
            ],
            "text/plain": [
              "                                            response              labels\n",
              "0  Mental illnesses are health conditions that di...          definition\n",
              "1  It is estimated that mental illness affects 1 ...        affects_whom\n",
              "2  Symptoms of mental health disorders vary depen...         what_causes\n",
              "3  When healing from mental illness, early identi...             recover\n",
              "4  Although this website cannot substitute for pr...               steps\n",
              "5  Feeling comfortable with the professional you ...           find_help\n",
              "6  Just as there are different types of medicatio...  treatement_options\n",
              "7  Since beginning treatment is a big step for in...      treatment_tips\n",
              "8  There are many types of mental health professi...  professional_types\n",
              "9  Feeling comfortable with the professional you ...  right_professional"
            ]
          },
          "execution_count": 34,
          "metadata": {},
          "output_type": "execute_result"
        }
      ],
      "source": [
        "df2"
      ]
    },
    {
      "cell_type": "code",
      "execution_count": 35,
      "metadata": {
        "colab": {
          "base_uri": "https://localhost:8080/",
          "height": 203
        },
        "id": "cR7qqxoeXh8w",
        "outputId": "bfb288a2-e061-4928-9b8b-3a1e20d69fa2"
      },
      "outputs": [
        {
          "data": {
            "text/html": [
              "<div>\n",
              "<style scoped>\n",
              "    .dataframe tbody tr th:only-of-type {\n",
              "        vertical-align: middle;\n",
              "    }\n",
              "\n",
              "    .dataframe tbody tr th {\n",
              "        vertical-align: top;\n",
              "    }\n",
              "\n",
              "    .dataframe thead th {\n",
              "        text-align: right;\n",
              "    }\n",
              "</style>\n",
              "<table border=\"1\" class=\"dataframe\">\n",
              "  <thead>\n",
              "    <tr style=\"text-align: right;\">\n",
              "      <th></th>\n",
              "      <th>response</th>\n",
              "      <th>labels</th>\n",
              "    </tr>\n",
              "  </thead>\n",
              "  <tbody>\n",
              "    <tr>\n",
              "      <th>0</th>\n",
              "      <td>Mental illnesses are health conditions that di...</td>\n",
              "      <td>1</td>\n",
              "    </tr>\n",
              "    <tr>\n",
              "      <th>1</th>\n",
              "      <td>It is estimated that mental illness affects 1 ...</td>\n",
              "      <td>0</td>\n",
              "    </tr>\n",
              "    <tr>\n",
              "      <th>2</th>\n",
              "      <td>Symptoms of mental health disorders vary depen...</td>\n",
              "      <td>9</td>\n",
              "    </tr>\n",
              "    <tr>\n",
              "      <th>3</th>\n",
              "      <td>When healing from mental illness, early identi...</td>\n",
              "      <td>4</td>\n",
              "    </tr>\n",
              "    <tr>\n",
              "      <th>4</th>\n",
              "      <td>Although this website cannot substitute for pr...</td>\n",
              "      <td>6</td>\n",
              "    </tr>\n",
              "  </tbody>\n",
              "</table>\n",
              "</div>"
            ],
            "text/plain": [
              "                                            response  labels\n",
              "0  Mental illnesses are health conditions that di...       1\n",
              "1  It is estimated that mental illness affects 1 ...       0\n",
              "2  Symptoms of mental health disorders vary depen...       9\n",
              "3  When healing from mental illness, early identi...       4\n",
              "4  Although this website cannot substitute for pr...       6"
            ]
          },
          "execution_count": 35,
          "metadata": {},
          "output_type": "execute_result"
        }
      ],
      "source": [
        "df2.labels = df2.labels.map(mapper).astype({'labels': 'int32'})\n",
        "df2.head()"
      ]
    },
    {
      "cell_type": "code",
      "execution_count": 36,
      "metadata": {
        "id": "4ixZCvNZXn4g"
      },
      "outputs": [],
      "source": [
        "df2.to_csv('response.csv',index=False)"
      ]
    },
    {
      "cell_type": "code",
      "execution_count": 37,
      "metadata": {
        "colab": {
          "base_uri": "https://localhost:8080/",
          "height": 203
        },
        "id": "hIjUTKNvAfao",
        "outputId": "a084e1eb-af7a-49bd-c664-4453abdaf6c0"
      },
      "outputs": [
        {
          "data": {
            "text/html": [
              "<div>\n",
              "<style scoped>\n",
              "    .dataframe tbody tr th:only-of-type {\n",
              "        vertical-align: middle;\n",
              "    }\n",
              "\n",
              "    .dataframe tbody tr th {\n",
              "        vertical-align: top;\n",
              "    }\n",
              "\n",
              "    .dataframe thead th {\n",
              "        text-align: right;\n",
              "    }\n",
              "</style>\n",
              "<table border=\"1\" class=\"dataframe\">\n",
              "  <thead>\n",
              "    <tr style=\"text-align: right;\">\n",
              "      <th></th>\n",
              "      <th>0</th>\n",
              "      <th>1</th>\n",
              "      <th>2</th>\n",
              "      <th>3</th>\n",
              "      <th>4</th>\n",
              "      <th>5</th>\n",
              "      <th>6</th>\n",
              "      <th>7</th>\n",
              "      <th>8</th>\n",
              "      <th>9</th>\n",
              "      <th>labels</th>\n",
              "    </tr>\n",
              "  </thead>\n",
              "  <tbody>\n",
              "    <tr>\n",
              "      <th>0</th>\n",
              "      <td>2</td>\n",
              "      <td>12</td>\n",
              "      <td>18</td>\n",
              "      <td>28</td>\n",
              "      <td>3</td>\n",
              "      <td>19</td>\n",
              "      <td>20</td>\n",
              "      <td>1</td>\n",
              "      <td>4</td>\n",
              "      <td>0</td>\n",
              "      <td>definition</td>\n",
              "    </tr>\n",
              "    <tr>\n",
              "      <th>1</th>\n",
              "      <td>2</td>\n",
              "      <td>7</td>\n",
              "      <td>1</td>\n",
              "      <td>5</td>\n",
              "      <td>4</td>\n",
              "      <td>0</td>\n",
              "      <td>0</td>\n",
              "      <td>0</td>\n",
              "      <td>0</td>\n",
              "      <td>0</td>\n",
              "      <td>definition</td>\n",
              "    </tr>\n",
              "    <tr>\n",
              "      <th>2</th>\n",
              "      <td>29</td>\n",
              "      <td>1</td>\n",
              "      <td>5</td>\n",
              "      <td>4</td>\n",
              "      <td>0</td>\n",
              "      <td>0</td>\n",
              "      <td>0</td>\n",
              "      <td>0</td>\n",
              "      <td>0</td>\n",
              "      <td>0</td>\n",
              "      <td>definition</td>\n",
              "    </tr>\n",
              "    <tr>\n",
              "      <th>3</th>\n",
              "      <td>13</td>\n",
              "      <td>12</td>\n",
              "      <td>1</td>\n",
              "      <td>4</td>\n",
              "      <td>30</td>\n",
              "      <td>0</td>\n",
              "      <td>0</td>\n",
              "      <td>0</td>\n",
              "      <td>0</td>\n",
              "      <td>0</td>\n",
              "      <td>affects_whom</td>\n",
              "    </tr>\n",
              "    <tr>\n",
              "      <th>4</th>\n",
              "      <td>13</td>\n",
              "      <td>7</td>\n",
              "      <td>31</td>\n",
              "      <td>32</td>\n",
              "      <td>1</td>\n",
              "      <td>4</td>\n",
              "      <td>0</td>\n",
              "      <td>0</td>\n",
              "      <td>0</td>\n",
              "      <td>0</td>\n",
              "      <td>affects_whom</td>\n",
              "    </tr>\n",
              "  </tbody>\n",
              "</table>\n",
              "</div>"
            ],
            "text/plain": [
              "    0   1   2   3   4   5   6  7  8  9        labels\n",
              "0   2  12  18  28   3  19  20  1  4  0    definition\n",
              "1   2   7   1   5   4   0   0  0  0  0    definition\n",
              "2  29   1   5   4   0   0   0  0  0  0    definition\n",
              "3  13  12   1   4  30   0   0  0  0  0  affects_whom\n",
              "4  13   7  31  32   1   4   0  0  0  0  affects_whom"
            ]
          },
          "execution_count": 37,
          "metadata": {},
          "output_type": "execute_result"
        }
      ],
      "source": [
        "df_encoded.head()"
      ]
    },
    {
      "cell_type": "code",
      "execution_count": 38,
      "metadata": {
        "colab": {
          "base_uri": "https://localhost:8080/"
        },
        "id": "gIyITJXtAkHZ",
        "outputId": "59a4c91e-e020-48ad-e2d4-44587dba3534"
      },
      "outputs": [
        {
          "data": {
            "text/plain": [
              "[1, 2, 4, 6, 7, 9, 11, 13, 15, 17, 19, 21]"
            ]
          },
          "execution_count": 38,
          "metadata": {},
          "output_type": "execute_result"
        }
      ],
      "source": [
        "train_index"
      ]
    },
    {
      "cell_type": "code",
      "execution_count": 39,
      "metadata": {
        "colab": {
          "base_uri": "https://localhost:8080/"
        },
        "id": "mdAynG8hAmUF",
        "outputId": "aff7c007-10fe-4482-d4fa-ff03e1c283d1"
      },
      "outputs": [
        {
          "data": {
            "text/plain": [
              "[3, 0, 12, 18, 8, 20, 10, 14, 16, 5]"
            ]
          },
          "execution_count": 39,
          "metadata": {},
          "output_type": "execute_result"
        }
      ],
      "source": [
        "test_index"
      ]
    },
    {
      "cell_type": "code",
      "execution_count": 40,
      "metadata": {
        "id": "-KWZh9SUXtwA"
      },
      "outputs": [],
      "source": [
        "train = df_encoded.loc[train_index]\n",
        "test = df_encoded.loc[test_index]"
      ]
    },
    {
      "cell_type": "markdown",
      "metadata": {
        "id": "Fb9aSpfs7NSN"
      },
      "source": [
        "## Training and testing"
      ]
    },
    {
      "cell_type": "code",
      "execution_count": 41,
      "metadata": {
        "colab": {
          "base_uri": "https://localhost:8080/",
          "height": 418
        },
        "id": "AcAZpSdmBYSx",
        "outputId": "001562f0-5172-4d9d-a1bc-5c57b6b84084"
      },
      "outputs": [
        {
          "data": {
            "text/html": [
              "<div>\n",
              "<style scoped>\n",
              "    .dataframe tbody tr th:only-of-type {\n",
              "        vertical-align: middle;\n",
              "    }\n",
              "\n",
              "    .dataframe tbody tr th {\n",
              "        vertical-align: top;\n",
              "    }\n",
              "\n",
              "    .dataframe thead th {\n",
              "        text-align: right;\n",
              "    }\n",
              "</style>\n",
              "<table border=\"1\" class=\"dataframe\">\n",
              "  <thead>\n",
              "    <tr style=\"text-align: right;\">\n",
              "      <th></th>\n",
              "      <th>0</th>\n",
              "      <th>1</th>\n",
              "      <th>2</th>\n",
              "      <th>3</th>\n",
              "      <th>4</th>\n",
              "      <th>5</th>\n",
              "      <th>6</th>\n",
              "      <th>7</th>\n",
              "      <th>8</th>\n",
              "      <th>9</th>\n",
              "      <th>labels</th>\n",
              "    </tr>\n",
              "  </thead>\n",
              "  <tbody>\n",
              "    <tr>\n",
              "      <th>1</th>\n",
              "      <td>2</td>\n",
              "      <td>7</td>\n",
              "      <td>1</td>\n",
              "      <td>5</td>\n",
              "      <td>4</td>\n",
              "      <td>0</td>\n",
              "      <td>0</td>\n",
              "      <td>0</td>\n",
              "      <td>0</td>\n",
              "      <td>0</td>\n",
              "      <td>definition</td>\n",
              "    </tr>\n",
              "    <tr>\n",
              "      <th>2</th>\n",
              "      <td>29</td>\n",
              "      <td>1</td>\n",
              "      <td>5</td>\n",
              "      <td>4</td>\n",
              "      <td>0</td>\n",
              "      <td>0</td>\n",
              "      <td>0</td>\n",
              "      <td>0</td>\n",
              "      <td>0</td>\n",
              "      <td>0</td>\n",
              "      <td>definition</td>\n",
              "    </tr>\n",
              "    <tr>\n",
              "      <th>4</th>\n",
              "      <td>13</td>\n",
              "      <td>7</td>\n",
              "      <td>31</td>\n",
              "      <td>32</td>\n",
              "      <td>1</td>\n",
              "      <td>4</td>\n",
              "      <td>0</td>\n",
              "      <td>0</td>\n",
              "      <td>0</td>\n",
              "      <td>0</td>\n",
              "      <td>affects_whom</td>\n",
              "    </tr>\n",
              "    <tr>\n",
              "      <th>6</th>\n",
              "      <td>2</td>\n",
              "      <td>34</td>\n",
              "      <td>3</td>\n",
              "      <td>1</td>\n",
              "      <td>4</td>\n",
              "      <td>0</td>\n",
              "      <td>0</td>\n",
              "      <td>0</td>\n",
              "      <td>0</td>\n",
              "      <td>0</td>\n",
              "      <td>what_causes</td>\n",
              "    </tr>\n",
              "    <tr>\n",
              "      <th>7</th>\n",
              "      <td>6</td>\n",
              "      <td>12</td>\n",
              "      <td>21</td>\n",
              "      <td>35</td>\n",
              "      <td>36</td>\n",
              "      <td>37</td>\n",
              "      <td>0</td>\n",
              "      <td>0</td>\n",
              "      <td>0</td>\n",
              "      <td>0</td>\n",
              "      <td>what_causes</td>\n",
              "    </tr>\n",
              "    <tr>\n",
              "      <th>9</th>\n",
              "      <td>7</td>\n",
              "      <td>18</td>\n",
              "      <td>40</td>\n",
              "      <td>3</td>\n",
              "      <td>15</td>\n",
              "      <td>41</td>\n",
              "      <td>1</td>\n",
              "      <td>4</td>\n",
              "      <td>0</td>\n",
              "      <td>0</td>\n",
              "      <td>recover</td>\n",
              "    </tr>\n",
              "    <tr>\n",
              "      <th>11</th>\n",
              "      <td>2</td>\n",
              "      <td>16</td>\n",
              "      <td>9</td>\n",
              "      <td>46</td>\n",
              "      <td>3</td>\n",
              "      <td>47</td>\n",
              "      <td>48</td>\n",
              "      <td>49</td>\n",
              "      <td>23</td>\n",
              "      <td>22</td>\n",
              "      <td>steps</td>\n",
              "    </tr>\n",
              "    <tr>\n",
              "      <th>13</th>\n",
              "      <td>6</td>\n",
              "      <td>3</td>\n",
              "      <td>10</td>\n",
              "      <td>1</td>\n",
              "      <td>5</td>\n",
              "      <td>11</td>\n",
              "      <td>0</td>\n",
              "      <td>0</td>\n",
              "      <td>0</td>\n",
              "      <td>0</td>\n",
              "      <td>find_help</td>\n",
              "    </tr>\n",
              "    <tr>\n",
              "      <th>15</th>\n",
              "      <td>6</td>\n",
              "      <td>14</td>\n",
              "      <td>21</td>\n",
              "      <td>15</td>\n",
              "      <td>0</td>\n",
              "      <td>0</td>\n",
              "      <td>0</td>\n",
              "      <td>0</td>\n",
              "      <td>0</td>\n",
              "      <td>0</td>\n",
              "      <td>treatement_options</td>\n",
              "    </tr>\n",
              "    <tr>\n",
              "      <th>17</th>\n",
              "      <td>2</td>\n",
              "      <td>55</td>\n",
              "      <td>8</td>\n",
              "      <td>56</td>\n",
              "      <td>25</td>\n",
              "      <td>57</td>\n",
              "      <td>58</td>\n",
              "      <td>8</td>\n",
              "      <td>59</td>\n",
              "      <td>17</td>\n",
              "      <td>treatment_tips</td>\n",
              "    </tr>\n",
              "    <tr>\n",
              "      <th>19</th>\n",
              "      <td>2</td>\n",
              "      <td>16</td>\n",
              "      <td>9</td>\n",
              "      <td>62</td>\n",
              "      <td>63</td>\n",
              "      <td>23</td>\n",
              "      <td>1</td>\n",
              "      <td>5</td>\n",
              "      <td>26</td>\n",
              "      <td>64</td>\n",
              "      <td>professional_types</td>\n",
              "    </tr>\n",
              "    <tr>\n",
              "      <th>21</th>\n",
              "      <td>6</td>\n",
              "      <td>3</td>\n",
              "      <td>10</td>\n",
              "      <td>9</td>\n",
              "      <td>27</td>\n",
              "      <td>1</td>\n",
              "      <td>5</td>\n",
              "      <td>11</td>\n",
              "      <td>0</td>\n",
              "      <td>0</td>\n",
              "      <td>right_professional</td>\n",
              "    </tr>\n",
              "  </tbody>\n",
              "</table>\n",
              "</div>"
            ],
            "text/plain": [
              "     0   1   2   3   4   5   6   7   8   9              labels\n",
              "1    2   7   1   5   4   0   0   0   0   0          definition\n",
              "2   29   1   5   4   0   0   0   0   0   0          definition\n",
              "4   13   7  31  32   1   4   0   0   0   0        affects_whom\n",
              "6    2  34   3   1   4   0   0   0   0   0         what_causes\n",
              "7    6  12  21  35  36  37   0   0   0   0         what_causes\n",
              "9    7  18  40   3  15  41   1   4   0   0             recover\n",
              "11   2  16   9  46   3  47  48  49  23  22               steps\n",
              "13   6   3  10   1   5  11   0   0   0   0           find_help\n",
              "15   6  14  21  15   0   0   0   0   0   0  treatement_options\n",
              "17   2  55   8  56  25  57  58   8  59  17      treatment_tips\n",
              "19   2  16   9  62  63  23   1   5  26  64  professional_types\n",
              "21   6   3  10   9  27   1   5  11   0   0  right_professional"
            ]
          },
          "execution_count": 41,
          "metadata": {},
          "output_type": "execute_result"
        }
      ],
      "source": [
        "train"
      ]
    },
    {
      "cell_type": "code",
      "execution_count": 42,
      "metadata": {
        "colab": {
          "base_uri": "https://localhost:8080/",
          "height": 203
        },
        "id": "epPEROQGBlsm",
        "outputId": "20e37b06-0375-4ce9-82d2-0a4cb57bec53"
      },
      "outputs": [
        {
          "data": {
            "text/html": [
              "<div>\n",
              "<style scoped>\n",
              "    .dataframe tbody tr th:only-of-type {\n",
              "        vertical-align: middle;\n",
              "    }\n",
              "\n",
              "    .dataframe tbody tr th {\n",
              "        vertical-align: top;\n",
              "    }\n",
              "\n",
              "    .dataframe thead th {\n",
              "        text-align: right;\n",
              "    }\n",
              "</style>\n",
              "<table border=\"1\" class=\"dataframe\">\n",
              "  <thead>\n",
              "    <tr style=\"text-align: right;\">\n",
              "      <th></th>\n",
              "      <th>0</th>\n",
              "      <th>1</th>\n",
              "      <th>2</th>\n",
              "      <th>3</th>\n",
              "      <th>4</th>\n",
              "      <th>5</th>\n",
              "      <th>6</th>\n",
              "      <th>7</th>\n",
              "      <th>8</th>\n",
              "      <th>9</th>\n",
              "      <th>labels</th>\n",
              "    </tr>\n",
              "  </thead>\n",
              "  <tbody>\n",
              "    <tr>\n",
              "      <th>3</th>\n",
              "      <td>13</td>\n",
              "      <td>12</td>\n",
              "      <td>1</td>\n",
              "      <td>4</td>\n",
              "      <td>30</td>\n",
              "      <td>0</td>\n",
              "      <td>0</td>\n",
              "      <td>0</td>\n",
              "      <td>0</td>\n",
              "      <td>0</td>\n",
              "      <td>affects_whom</td>\n",
              "    </tr>\n",
              "    <tr>\n",
              "      <th>0</th>\n",
              "      <td>2</td>\n",
              "      <td>12</td>\n",
              "      <td>18</td>\n",
              "      <td>28</td>\n",
              "      <td>3</td>\n",
              "      <td>19</td>\n",
              "      <td>20</td>\n",
              "      <td>1</td>\n",
              "      <td>4</td>\n",
              "      <td>0</td>\n",
              "      <td>definition</td>\n",
              "    </tr>\n",
              "    <tr>\n",
              "      <th>12</th>\n",
              "      <td>6</td>\n",
              "      <td>3</td>\n",
              "      <td>10</td>\n",
              "      <td>1</td>\n",
              "      <td>5</td>\n",
              "      <td>11</td>\n",
              "      <td>50</td>\n",
              "      <td>24</td>\n",
              "      <td>0</td>\n",
              "      <td>0</td>\n",
              "      <td>find_help</td>\n",
              "    </tr>\n",
              "    <tr>\n",
              "      <th>18</th>\n",
              "      <td>2</td>\n",
              "      <td>7</td>\n",
              "      <td>9</td>\n",
              "      <td>60</td>\n",
              "      <td>61</td>\n",
              "      <td>1</td>\n",
              "      <td>5</td>\n",
              "      <td>26</td>\n",
              "      <td>0</td>\n",
              "      <td>0</td>\n",
              "      <td>professional_types</td>\n",
              "    </tr>\n",
              "    <tr>\n",
              "      <th>8</th>\n",
              "      <td>14</td>\n",
              "      <td>38</td>\n",
              "      <td>39</td>\n",
              "      <td>1</td>\n",
              "      <td>4</td>\n",
              "      <td>15</td>\n",
              "      <td>0</td>\n",
              "      <td>0</td>\n",
              "      <td>0</td>\n",
              "      <td>0</td>\n",
              "      <td>recover</td>\n",
              "    </tr>\n",
              "  </tbody>\n",
              "</table>\n",
              "</div>"
            ],
            "text/plain": [
              "     0   1   2   3   4   5   6   7  8  9              labels\n",
              "3   13  12   1   4  30   0   0   0  0  0        affects_whom\n",
              "0    2  12  18  28   3  19  20   1  4  0          definition\n",
              "12   6   3  10   1   5  11  50  24  0  0           find_help\n",
              "18   2   7   9  60  61   1   5  26  0  0  professional_types\n",
              "8   14  38  39   1   4  15   0   0  0  0             recover"
            ]
          },
          "execution_count": 42,
          "metadata": {},
          "output_type": "execute_result"
        }
      ],
      "source": [
        "test.head()"
      ]
    },
    {
      "cell_type": "code",
      "execution_count": 43,
      "metadata": {
        "colab": {
          "base_uri": "https://localhost:8080/"
        },
        "id": "C1ZYcCJFmQfg",
        "outputId": "3726982d-8103-4c01-c4ac-cb1cc22665d5"
      },
      "outputs": [
        {
          "data": {
            "text/plain": [
              "definition            2\n",
              "what_causes           2\n",
              "affects_whom          1\n",
              "recover               1\n",
              "steps                 1\n",
              "find_help             1\n",
              "treatement_options    1\n",
              "treatment_tips        1\n",
              "professional_types    1\n",
              "right_professional    1\n",
              "Name: labels, dtype: int64"
            ]
          },
          "execution_count": 43,
          "metadata": {},
          "output_type": "execute_result"
        }
      ],
      "source": [
        "train.labels.value_counts()"
      ]
    },
    {
      "cell_type": "code",
      "execution_count": 44,
      "metadata": {
        "colab": {
          "base_uri": "https://localhost:8080/"
        },
        "id": "E46URbzfmTLE",
        "outputId": "6f923aae-c043-43e7-d209-94ff07b7881e"
      },
      "outputs": [
        {
          "data": {
            "text/plain": [
              "affects_whom          1\n",
              "definition            1\n",
              "find_help             1\n",
              "professional_types    1\n",
              "recover               1\n",
              "right_professional    1\n",
              "steps                 1\n",
              "treatement_options    1\n",
              "treatment_tips        1\n",
              "what_causes           1\n",
              "Name: labels, dtype: int64"
            ]
          },
          "execution_count": 44,
          "metadata": {},
          "output_type": "execute_result"
        }
      ],
      "source": [
        "test.labels.value_counts()"
      ]
    },
    {
      "cell_type": "code",
      "execution_count": 45,
      "metadata": {
        "colab": {
          "base_uri": "https://localhost:8080/",
          "height": 418
        },
        "id": "PcbjQwN-RQui",
        "outputId": "0eebccd7-fa8c-4bdf-cedc-c8bd68ce066d"
      },
      "outputs": [
        {
          "data": {
            "text/html": [
              "<div>\n",
              "<style scoped>\n",
              "    .dataframe tbody tr th:only-of-type {\n",
              "        vertical-align: middle;\n",
              "    }\n",
              "\n",
              "    .dataframe tbody tr th {\n",
              "        vertical-align: top;\n",
              "    }\n",
              "\n",
              "    .dataframe thead th {\n",
              "        text-align: right;\n",
              "    }\n",
              "</style>\n",
              "<table border=\"1\" class=\"dataframe\">\n",
              "  <thead>\n",
              "    <tr style=\"text-align: right;\">\n",
              "      <th></th>\n",
              "      <th>0</th>\n",
              "      <th>1</th>\n",
              "      <th>2</th>\n",
              "      <th>3</th>\n",
              "      <th>4</th>\n",
              "      <th>5</th>\n",
              "      <th>6</th>\n",
              "      <th>7</th>\n",
              "      <th>8</th>\n",
              "      <th>9</th>\n",
              "      <th>labels</th>\n",
              "    </tr>\n",
              "  </thead>\n",
              "  <tbody>\n",
              "    <tr>\n",
              "      <th>1</th>\n",
              "      <td>2</td>\n",
              "      <td>7</td>\n",
              "      <td>1</td>\n",
              "      <td>5</td>\n",
              "      <td>4</td>\n",
              "      <td>0</td>\n",
              "      <td>0</td>\n",
              "      <td>0</td>\n",
              "      <td>0</td>\n",
              "      <td>0</td>\n",
              "      <td>definition</td>\n",
              "    </tr>\n",
              "    <tr>\n",
              "      <th>2</th>\n",
              "      <td>29</td>\n",
              "      <td>1</td>\n",
              "      <td>5</td>\n",
              "      <td>4</td>\n",
              "      <td>0</td>\n",
              "      <td>0</td>\n",
              "      <td>0</td>\n",
              "      <td>0</td>\n",
              "      <td>0</td>\n",
              "      <td>0</td>\n",
              "      <td>definition</td>\n",
              "    </tr>\n",
              "    <tr>\n",
              "      <th>4</th>\n",
              "      <td>13</td>\n",
              "      <td>7</td>\n",
              "      <td>31</td>\n",
              "      <td>32</td>\n",
              "      <td>1</td>\n",
              "      <td>4</td>\n",
              "      <td>0</td>\n",
              "      <td>0</td>\n",
              "      <td>0</td>\n",
              "      <td>0</td>\n",
              "      <td>affects_whom</td>\n",
              "    </tr>\n",
              "    <tr>\n",
              "      <th>6</th>\n",
              "      <td>2</td>\n",
              "      <td>34</td>\n",
              "      <td>3</td>\n",
              "      <td>1</td>\n",
              "      <td>4</td>\n",
              "      <td>0</td>\n",
              "      <td>0</td>\n",
              "      <td>0</td>\n",
              "      <td>0</td>\n",
              "      <td>0</td>\n",
              "      <td>what_causes</td>\n",
              "    </tr>\n",
              "    <tr>\n",
              "      <th>7</th>\n",
              "      <td>6</td>\n",
              "      <td>12</td>\n",
              "      <td>21</td>\n",
              "      <td>35</td>\n",
              "      <td>36</td>\n",
              "      <td>37</td>\n",
              "      <td>0</td>\n",
              "      <td>0</td>\n",
              "      <td>0</td>\n",
              "      <td>0</td>\n",
              "      <td>what_causes</td>\n",
              "    </tr>\n",
              "    <tr>\n",
              "      <th>9</th>\n",
              "      <td>7</td>\n",
              "      <td>18</td>\n",
              "      <td>40</td>\n",
              "      <td>3</td>\n",
              "      <td>15</td>\n",
              "      <td>41</td>\n",
              "      <td>1</td>\n",
              "      <td>4</td>\n",
              "      <td>0</td>\n",
              "      <td>0</td>\n",
              "      <td>recover</td>\n",
              "    </tr>\n",
              "    <tr>\n",
              "      <th>11</th>\n",
              "      <td>2</td>\n",
              "      <td>16</td>\n",
              "      <td>9</td>\n",
              "      <td>46</td>\n",
              "      <td>3</td>\n",
              "      <td>47</td>\n",
              "      <td>48</td>\n",
              "      <td>49</td>\n",
              "      <td>23</td>\n",
              "      <td>22</td>\n",
              "      <td>steps</td>\n",
              "    </tr>\n",
              "    <tr>\n",
              "      <th>13</th>\n",
              "      <td>6</td>\n",
              "      <td>3</td>\n",
              "      <td>10</td>\n",
              "      <td>1</td>\n",
              "      <td>5</td>\n",
              "      <td>11</td>\n",
              "      <td>0</td>\n",
              "      <td>0</td>\n",
              "      <td>0</td>\n",
              "      <td>0</td>\n",
              "      <td>find_help</td>\n",
              "    </tr>\n",
              "    <tr>\n",
              "      <th>15</th>\n",
              "      <td>6</td>\n",
              "      <td>14</td>\n",
              "      <td>21</td>\n",
              "      <td>15</td>\n",
              "      <td>0</td>\n",
              "      <td>0</td>\n",
              "      <td>0</td>\n",
              "      <td>0</td>\n",
              "      <td>0</td>\n",
              "      <td>0</td>\n",
              "      <td>treatement_options</td>\n",
              "    </tr>\n",
              "    <tr>\n",
              "      <th>17</th>\n",
              "      <td>2</td>\n",
              "      <td>55</td>\n",
              "      <td>8</td>\n",
              "      <td>56</td>\n",
              "      <td>25</td>\n",
              "      <td>57</td>\n",
              "      <td>58</td>\n",
              "      <td>8</td>\n",
              "      <td>59</td>\n",
              "      <td>17</td>\n",
              "      <td>treatment_tips</td>\n",
              "    </tr>\n",
              "    <tr>\n",
              "      <th>19</th>\n",
              "      <td>2</td>\n",
              "      <td>16</td>\n",
              "      <td>9</td>\n",
              "      <td>62</td>\n",
              "      <td>63</td>\n",
              "      <td>23</td>\n",
              "      <td>1</td>\n",
              "      <td>5</td>\n",
              "      <td>26</td>\n",
              "      <td>64</td>\n",
              "      <td>professional_types</td>\n",
              "    </tr>\n",
              "    <tr>\n",
              "      <th>21</th>\n",
              "      <td>6</td>\n",
              "      <td>3</td>\n",
              "      <td>10</td>\n",
              "      <td>9</td>\n",
              "      <td>27</td>\n",
              "      <td>1</td>\n",
              "      <td>5</td>\n",
              "      <td>11</td>\n",
              "      <td>0</td>\n",
              "      <td>0</td>\n",
              "      <td>right_professional</td>\n",
              "    </tr>\n",
              "  </tbody>\n",
              "</table>\n",
              "</div>"
            ],
            "text/plain": [
              "     0   1   2   3   4   5   6   7   8   9              labels\n",
              "1    2   7   1   5   4   0   0   0   0   0          definition\n",
              "2   29   1   5   4   0   0   0   0   0   0          definition\n",
              "4   13   7  31  32   1   4   0   0   0   0        affects_whom\n",
              "6    2  34   3   1   4   0   0   0   0   0         what_causes\n",
              "7    6  12  21  35  36  37   0   0   0   0         what_causes\n",
              "9    7  18  40   3  15  41   1   4   0   0             recover\n",
              "11   2  16   9  46   3  47  48  49  23  22               steps\n",
              "13   6   3  10   1   5  11   0   0   0   0           find_help\n",
              "15   6  14  21  15   0   0   0   0   0   0  treatement_options\n",
              "17   2  55   8  56  25  57  58   8  59  17      treatment_tips\n",
              "19   2  16   9  62  63  23   1   5  26  64  professional_types\n",
              "21   6   3  10   9  27   1   5  11   0   0  right_professional"
            ]
          },
          "execution_count": 45,
          "metadata": {},
          "output_type": "execute_result"
        }
      ],
      "source": [
        "train"
      ]
    },
    {
      "cell_type": "code",
      "execution_count": 46,
      "metadata": {
        "id": "G2syG8OIXtsl"
      },
      "outputs": [],
      "source": [
        "X_train = train.drop(columns=['labels'],axis=1)\n",
        "y_train = train.labels\n",
        "X_test = test.drop(columns=['labels'],axis=1)\n",
        "y_test = test.labels"
      ]
    },
    {
      "cell_type": "code",
      "execution_count": 47,
      "metadata": {
        "colab": {
          "base_uri": "https://localhost:8080/",
          "height": 203
        },
        "id": "t0jjLEnErX9h",
        "outputId": "e444ff00-cc70-405f-ebdf-61fee0a57de7"
      },
      "outputs": [
        {
          "data": {
            "text/html": [
              "<div>\n",
              "<style scoped>\n",
              "    .dataframe tbody tr th:only-of-type {\n",
              "        vertical-align: middle;\n",
              "    }\n",
              "\n",
              "    .dataframe tbody tr th {\n",
              "        vertical-align: top;\n",
              "    }\n",
              "\n",
              "    .dataframe thead th {\n",
              "        text-align: right;\n",
              "    }\n",
              "</style>\n",
              "<table border=\"1\" class=\"dataframe\">\n",
              "  <thead>\n",
              "    <tr style=\"text-align: right;\">\n",
              "      <th></th>\n",
              "      <th>0</th>\n",
              "      <th>1</th>\n",
              "      <th>2</th>\n",
              "      <th>3</th>\n",
              "      <th>4</th>\n",
              "      <th>5</th>\n",
              "      <th>6</th>\n",
              "      <th>7</th>\n",
              "      <th>8</th>\n",
              "      <th>9</th>\n",
              "    </tr>\n",
              "  </thead>\n",
              "  <tbody>\n",
              "    <tr>\n",
              "      <th>1</th>\n",
              "      <td>2</td>\n",
              "      <td>7</td>\n",
              "      <td>1</td>\n",
              "      <td>5</td>\n",
              "      <td>4</td>\n",
              "      <td>0</td>\n",
              "      <td>0</td>\n",
              "      <td>0</td>\n",
              "      <td>0</td>\n",
              "      <td>0</td>\n",
              "    </tr>\n",
              "    <tr>\n",
              "      <th>2</th>\n",
              "      <td>29</td>\n",
              "      <td>1</td>\n",
              "      <td>5</td>\n",
              "      <td>4</td>\n",
              "      <td>0</td>\n",
              "      <td>0</td>\n",
              "      <td>0</td>\n",
              "      <td>0</td>\n",
              "      <td>0</td>\n",
              "      <td>0</td>\n",
              "    </tr>\n",
              "    <tr>\n",
              "      <th>4</th>\n",
              "      <td>13</td>\n",
              "      <td>7</td>\n",
              "      <td>31</td>\n",
              "      <td>32</td>\n",
              "      <td>1</td>\n",
              "      <td>4</td>\n",
              "      <td>0</td>\n",
              "      <td>0</td>\n",
              "      <td>0</td>\n",
              "      <td>0</td>\n",
              "    </tr>\n",
              "    <tr>\n",
              "      <th>6</th>\n",
              "      <td>2</td>\n",
              "      <td>34</td>\n",
              "      <td>3</td>\n",
              "      <td>1</td>\n",
              "      <td>4</td>\n",
              "      <td>0</td>\n",
              "      <td>0</td>\n",
              "      <td>0</td>\n",
              "      <td>0</td>\n",
              "      <td>0</td>\n",
              "    </tr>\n",
              "    <tr>\n",
              "      <th>7</th>\n",
              "      <td>6</td>\n",
              "      <td>12</td>\n",
              "      <td>21</td>\n",
              "      <td>35</td>\n",
              "      <td>36</td>\n",
              "      <td>37</td>\n",
              "      <td>0</td>\n",
              "      <td>0</td>\n",
              "      <td>0</td>\n",
              "      <td>0</td>\n",
              "    </tr>\n",
              "  </tbody>\n",
              "</table>\n",
              "</div>"
            ],
            "text/plain": [
              "    0   1   2   3   4   5  6  7  8  9\n",
              "1   2   7   1   5   4   0  0  0  0  0\n",
              "2  29   1   5   4   0   0  0  0  0  0\n",
              "4  13   7  31  32   1   4  0  0  0  0\n",
              "6   2  34   3   1   4   0  0  0  0  0\n",
              "7   6  12  21  35  36  37  0  0  0  0"
            ]
          },
          "execution_count": 47,
          "metadata": {},
          "output_type": "execute_result"
        }
      ],
      "source": [
        "X_train.head()"
      ]
    },
    {
      "cell_type": "code",
      "execution_count": 48,
      "metadata": {
        "id": "1cSOF7OeXtqJ"
      },
      "outputs": [],
      "source": [
        "y_train =pd.get_dummies(y_train).values\n",
        "y_test =pd.get_dummies(y_test).values"
      ]
    },
    {
      "cell_type": "code",
      "execution_count": 49,
      "metadata": {
        "colab": {
          "base_uri": "https://localhost:8080/",
          "height": 357
        },
        "id": "lG_4kPvW96KK",
        "outputId": "953e0046-fa67-4b93-8c56-af3ecde9abb5"
      },
      "outputs": [
        {
          "data": {
            "text/html": [
              "<div>\n",
              "<style scoped>\n",
              "    .dataframe tbody tr th:only-of-type {\n",
              "        vertical-align: middle;\n",
              "    }\n",
              "\n",
              "    .dataframe tbody tr th {\n",
              "        vertical-align: top;\n",
              "    }\n",
              "\n",
              "    .dataframe thead th {\n",
              "        text-align: right;\n",
              "    }\n",
              "</style>\n",
              "<table border=\"1\" class=\"dataframe\">\n",
              "  <thead>\n",
              "    <tr style=\"text-align: right;\">\n",
              "      <th></th>\n",
              "      <th>0</th>\n",
              "      <th>1</th>\n",
              "      <th>2</th>\n",
              "      <th>3</th>\n",
              "      <th>4</th>\n",
              "      <th>5</th>\n",
              "      <th>6</th>\n",
              "      <th>7</th>\n",
              "      <th>8</th>\n",
              "      <th>9</th>\n",
              "    </tr>\n",
              "  </thead>\n",
              "  <tbody>\n",
              "    <tr>\n",
              "      <th>3</th>\n",
              "      <td>13</td>\n",
              "      <td>12</td>\n",
              "      <td>1</td>\n",
              "      <td>4</td>\n",
              "      <td>30</td>\n",
              "      <td>0</td>\n",
              "      <td>0</td>\n",
              "      <td>0</td>\n",
              "      <td>0</td>\n",
              "      <td>0</td>\n",
              "    </tr>\n",
              "    <tr>\n",
              "      <th>0</th>\n",
              "      <td>2</td>\n",
              "      <td>12</td>\n",
              "      <td>18</td>\n",
              "      <td>28</td>\n",
              "      <td>3</td>\n",
              "      <td>19</td>\n",
              "      <td>20</td>\n",
              "      <td>1</td>\n",
              "      <td>4</td>\n",
              "      <td>0</td>\n",
              "    </tr>\n",
              "    <tr>\n",
              "      <th>12</th>\n",
              "      <td>6</td>\n",
              "      <td>3</td>\n",
              "      <td>10</td>\n",
              "      <td>1</td>\n",
              "      <td>5</td>\n",
              "      <td>11</td>\n",
              "      <td>50</td>\n",
              "      <td>24</td>\n",
              "      <td>0</td>\n",
              "      <td>0</td>\n",
              "    </tr>\n",
              "    <tr>\n",
              "      <th>18</th>\n",
              "      <td>2</td>\n",
              "      <td>7</td>\n",
              "      <td>9</td>\n",
              "      <td>60</td>\n",
              "      <td>61</td>\n",
              "      <td>1</td>\n",
              "      <td>5</td>\n",
              "      <td>26</td>\n",
              "      <td>0</td>\n",
              "      <td>0</td>\n",
              "    </tr>\n",
              "    <tr>\n",
              "      <th>8</th>\n",
              "      <td>14</td>\n",
              "      <td>38</td>\n",
              "      <td>39</td>\n",
              "      <td>1</td>\n",
              "      <td>4</td>\n",
              "      <td>15</td>\n",
              "      <td>0</td>\n",
              "      <td>0</td>\n",
              "      <td>0</td>\n",
              "      <td>0</td>\n",
              "    </tr>\n",
              "    <tr>\n",
              "      <th>20</th>\n",
              "      <td>6</td>\n",
              "      <td>14</td>\n",
              "      <td>8</td>\n",
              "      <td>10</td>\n",
              "      <td>20</td>\n",
              "      <td>1</td>\n",
              "      <td>5</td>\n",
              "      <td>11</td>\n",
              "      <td>27</td>\n",
              "      <td>24</td>\n",
              "    </tr>\n",
              "    <tr>\n",
              "      <th>10</th>\n",
              "      <td>8</td>\n",
              "      <td>42</td>\n",
              "      <td>43</td>\n",
              "      <td>13</td>\n",
              "      <td>44</td>\n",
              "      <td>3</td>\n",
              "      <td>19</td>\n",
              "      <td>45</td>\n",
              "      <td>22</td>\n",
              "      <td>0</td>\n",
              "    </tr>\n",
              "    <tr>\n",
              "      <th>14</th>\n",
              "      <td>2</td>\n",
              "      <td>17</td>\n",
              "      <td>51</td>\n",
              "      <td>16</td>\n",
              "      <td>52</td>\n",
              "      <td>0</td>\n",
              "      <td>0</td>\n",
              "      <td>0</td>\n",
              "      <td>0</td>\n",
              "      <td>0</td>\n",
              "    </tr>\n",
              "    <tr>\n",
              "      <th>16</th>\n",
              "      <td>6</td>\n",
              "      <td>3</td>\n",
              "      <td>53</td>\n",
              "      <td>54</td>\n",
              "      <td>25</td>\n",
              "      <td>17</td>\n",
              "      <td>0</td>\n",
              "      <td>0</td>\n",
              "      <td>0</td>\n",
              "      <td>0</td>\n",
              "    </tr>\n",
              "    <tr>\n",
              "      <th>5</th>\n",
              "      <td>2</td>\n",
              "      <td>33</td>\n",
              "      <td>1</td>\n",
              "      <td>4</td>\n",
              "      <td>0</td>\n",
              "      <td>0</td>\n",
              "      <td>0</td>\n",
              "      <td>0</td>\n",
              "      <td>0</td>\n",
              "      <td>0</td>\n",
              "    </tr>\n",
              "  </tbody>\n",
              "</table>\n",
              "</div>"
            ],
            "text/plain": [
              "     0   1   2   3   4   5   6   7   8   9\n",
              "3   13  12   1   4  30   0   0   0   0   0\n",
              "0    2  12  18  28   3  19  20   1   4   0\n",
              "12   6   3  10   1   5  11  50  24   0   0\n",
              "18   2   7   9  60  61   1   5  26   0   0\n",
              "8   14  38  39   1   4  15   0   0   0   0\n",
              "20   6  14   8  10  20   1   5  11  27  24\n",
              "10   8  42  43  13  44   3  19  45  22   0\n",
              "14   2  17  51  16  52   0   0   0   0   0\n",
              "16   6   3  53  54  25  17   0   0   0   0\n",
              "5    2  33   1   4   0   0   0   0   0   0"
            ]
          },
          "execution_count": 49,
          "metadata": {},
          "output_type": "execute_result"
        }
      ],
      "source": [
        "X_test"
      ]
    },
    {
      "cell_type": "code",
      "execution_count": 50,
      "metadata": {
        "colab": {
          "base_uri": "https://localhost:8080/",
          "height": 418
        },
        "id": "bZyNYXsjfY2y",
        "outputId": "6e462b54-5e0c-45d6-a911-e361be113c6c"
      },
      "outputs": [
        {
          "data": {
            "text/html": [
              "<div>\n",
              "<style scoped>\n",
              "    .dataframe tbody tr th:only-of-type {\n",
              "        vertical-align: middle;\n",
              "    }\n",
              "\n",
              "    .dataframe tbody tr th {\n",
              "        vertical-align: top;\n",
              "    }\n",
              "\n",
              "    .dataframe thead th {\n",
              "        text-align: right;\n",
              "    }\n",
              "</style>\n",
              "<table border=\"1\" class=\"dataframe\">\n",
              "  <thead>\n",
              "    <tr style=\"text-align: right;\">\n",
              "      <th></th>\n",
              "      <th>0</th>\n",
              "      <th>1</th>\n",
              "      <th>2</th>\n",
              "      <th>3</th>\n",
              "      <th>4</th>\n",
              "      <th>5</th>\n",
              "      <th>6</th>\n",
              "      <th>7</th>\n",
              "      <th>8</th>\n",
              "      <th>9</th>\n",
              "    </tr>\n",
              "  </thead>\n",
              "  <tbody>\n",
              "    <tr>\n",
              "      <th>1</th>\n",
              "      <td>2</td>\n",
              "      <td>7</td>\n",
              "      <td>1</td>\n",
              "      <td>5</td>\n",
              "      <td>4</td>\n",
              "      <td>0</td>\n",
              "      <td>0</td>\n",
              "      <td>0</td>\n",
              "      <td>0</td>\n",
              "      <td>0</td>\n",
              "    </tr>\n",
              "    <tr>\n",
              "      <th>2</th>\n",
              "      <td>29</td>\n",
              "      <td>1</td>\n",
              "      <td>5</td>\n",
              "      <td>4</td>\n",
              "      <td>0</td>\n",
              "      <td>0</td>\n",
              "      <td>0</td>\n",
              "      <td>0</td>\n",
              "      <td>0</td>\n",
              "      <td>0</td>\n",
              "    </tr>\n",
              "    <tr>\n",
              "      <th>4</th>\n",
              "      <td>13</td>\n",
              "      <td>7</td>\n",
              "      <td>31</td>\n",
              "      <td>32</td>\n",
              "      <td>1</td>\n",
              "      <td>4</td>\n",
              "      <td>0</td>\n",
              "      <td>0</td>\n",
              "      <td>0</td>\n",
              "      <td>0</td>\n",
              "    </tr>\n",
              "    <tr>\n",
              "      <th>6</th>\n",
              "      <td>2</td>\n",
              "      <td>34</td>\n",
              "      <td>3</td>\n",
              "      <td>1</td>\n",
              "      <td>4</td>\n",
              "      <td>0</td>\n",
              "      <td>0</td>\n",
              "      <td>0</td>\n",
              "      <td>0</td>\n",
              "      <td>0</td>\n",
              "    </tr>\n",
              "    <tr>\n",
              "      <th>7</th>\n",
              "      <td>6</td>\n",
              "      <td>12</td>\n",
              "      <td>21</td>\n",
              "      <td>35</td>\n",
              "      <td>36</td>\n",
              "      <td>37</td>\n",
              "      <td>0</td>\n",
              "      <td>0</td>\n",
              "      <td>0</td>\n",
              "      <td>0</td>\n",
              "    </tr>\n",
              "    <tr>\n",
              "      <th>9</th>\n",
              "      <td>7</td>\n",
              "      <td>18</td>\n",
              "      <td>40</td>\n",
              "      <td>3</td>\n",
              "      <td>15</td>\n",
              "      <td>41</td>\n",
              "      <td>1</td>\n",
              "      <td>4</td>\n",
              "      <td>0</td>\n",
              "      <td>0</td>\n",
              "    </tr>\n",
              "    <tr>\n",
              "      <th>11</th>\n",
              "      <td>2</td>\n",
              "      <td>16</td>\n",
              "      <td>9</td>\n",
              "      <td>46</td>\n",
              "      <td>3</td>\n",
              "      <td>47</td>\n",
              "      <td>48</td>\n",
              "      <td>49</td>\n",
              "      <td>23</td>\n",
              "      <td>22</td>\n",
              "    </tr>\n",
              "    <tr>\n",
              "      <th>13</th>\n",
              "      <td>6</td>\n",
              "      <td>3</td>\n",
              "      <td>10</td>\n",
              "      <td>1</td>\n",
              "      <td>5</td>\n",
              "      <td>11</td>\n",
              "      <td>0</td>\n",
              "      <td>0</td>\n",
              "      <td>0</td>\n",
              "      <td>0</td>\n",
              "    </tr>\n",
              "    <tr>\n",
              "      <th>15</th>\n",
              "      <td>6</td>\n",
              "      <td>14</td>\n",
              "      <td>21</td>\n",
              "      <td>15</td>\n",
              "      <td>0</td>\n",
              "      <td>0</td>\n",
              "      <td>0</td>\n",
              "      <td>0</td>\n",
              "      <td>0</td>\n",
              "      <td>0</td>\n",
              "    </tr>\n",
              "    <tr>\n",
              "      <th>17</th>\n",
              "      <td>2</td>\n",
              "      <td>55</td>\n",
              "      <td>8</td>\n",
              "      <td>56</td>\n",
              "      <td>25</td>\n",
              "      <td>57</td>\n",
              "      <td>58</td>\n",
              "      <td>8</td>\n",
              "      <td>59</td>\n",
              "      <td>17</td>\n",
              "    </tr>\n",
              "    <tr>\n",
              "      <th>19</th>\n",
              "      <td>2</td>\n",
              "      <td>16</td>\n",
              "      <td>9</td>\n",
              "      <td>62</td>\n",
              "      <td>63</td>\n",
              "      <td>23</td>\n",
              "      <td>1</td>\n",
              "      <td>5</td>\n",
              "      <td>26</td>\n",
              "      <td>64</td>\n",
              "    </tr>\n",
              "    <tr>\n",
              "      <th>21</th>\n",
              "      <td>6</td>\n",
              "      <td>3</td>\n",
              "      <td>10</td>\n",
              "      <td>9</td>\n",
              "      <td>27</td>\n",
              "      <td>1</td>\n",
              "      <td>5</td>\n",
              "      <td>11</td>\n",
              "      <td>0</td>\n",
              "      <td>0</td>\n",
              "    </tr>\n",
              "  </tbody>\n",
              "</table>\n",
              "</div>"
            ],
            "text/plain": [
              "     0   1   2   3   4   5   6   7   8   9\n",
              "1    2   7   1   5   4   0   0   0   0   0\n",
              "2   29   1   5   4   0   0   0   0   0   0\n",
              "4   13   7  31  32   1   4   0   0   0   0\n",
              "6    2  34   3   1   4   0   0   0   0   0\n",
              "7    6  12  21  35  36  37   0   0   0   0\n",
              "9    7  18  40   3  15  41   1   4   0   0\n",
              "11   2  16   9  46   3  47  48  49  23  22\n",
              "13   6   3  10   1   5  11   0   0   0   0\n",
              "15   6  14  21  15   0   0   0   0   0   0\n",
              "17   2  55   8  56  25  57  58   8  59  17\n",
              "19   2  16   9  62  63  23   1   5  26  64\n",
              "21   6   3  10   9  27   1   5  11   0   0"
            ]
          },
          "execution_count": 50,
          "metadata": {},
          "output_type": "execute_result"
        }
      ],
      "source": [
        "X_train"
      ]
    },
    {
      "cell_type": "code",
      "execution_count": 51,
      "metadata": {
        "colab": {
          "base_uri": "https://localhost:8080/"
        },
        "id": "wWFWgav5B-pH",
        "outputId": "cb4ed15f-5382-476e-a2f8-cf55f306ae84"
      },
      "outputs": [
        {
          "data": {
            "text/plain": [
              "array([[0, 1, 0, 0, 0, 0, 0, 0, 0, 0],\n",
              "       [0, 1, 0, 0, 0, 0, 0, 0, 0, 0],\n",
              "       [1, 0, 0, 0, 0, 0, 0, 0, 0, 0],\n",
              "       [0, 0, 0, 0, 0, 0, 0, 0, 0, 1],\n",
              "       [0, 0, 0, 0, 0, 0, 0, 0, 0, 1],\n",
              "       [0, 0, 0, 0, 1, 0, 0, 0, 0, 0],\n",
              "       [0, 0, 0, 0, 0, 0, 1, 0, 0, 0],\n",
              "       [0, 0, 1, 0, 0, 0, 0, 0, 0, 0],\n",
              "       [0, 0, 0, 0, 0, 0, 0, 1, 0, 0],\n",
              "       [0, 0, 0, 0, 0, 0, 0, 0, 1, 0],\n",
              "       [0, 0, 0, 1, 0, 0, 0, 0, 0, 0],\n",
              "       [0, 0, 0, 0, 0, 1, 0, 0, 0, 0]], dtype=uint8)"
            ]
          },
          "execution_count": 51,
          "metadata": {},
          "output_type": "execute_result"
        }
      ],
      "source": [
        "y_train"
      ]
    },
    {
      "cell_type": "code",
      "execution_count": 52,
      "metadata": {
        "colab": {
          "base_uri": "https://localhost:8080/"
        },
        "id": "xvhKy5u6mM0k",
        "outputId": "2c3889ca-337e-4cad-be92-984234f8ed31"
      },
      "outputs": [
        {
          "data": {
            "text/plain": [
              "array([0, 1, 0, 0, 0, 0, 0, 0, 0, 0], dtype=uint8)"
            ]
          },
          "execution_count": 52,
          "metadata": {},
          "output_type": "execute_result"
        }
      ],
      "source": [
        "y_train[0]"
      ]
    },
    {
      "cell_type": "code",
      "execution_count": 53,
      "metadata": {
        "colab": {
          "base_uri": "https://localhost:8080/"
        },
        "id": "pPZDWFkBmOdx",
        "outputId": "5ae5e495-7ca3-4f7c-8ed7-4d6af7a3413b"
      },
      "outputs": [
        {
          "data": {
            "text/plain": [
              "array([[1, 0, 0, 0, 0, 0, 0, 0, 0, 0],\n",
              "       [0, 1, 0, 0, 0, 0, 0, 0, 0, 0],\n",
              "       [0, 0, 1, 0, 0, 0, 0, 0, 0, 0],\n",
              "       [0, 0, 0, 1, 0, 0, 0, 0, 0, 0],\n",
              "       [0, 0, 0, 0, 1, 0, 0, 0, 0, 0],\n",
              "       [0, 0, 0, 0, 0, 1, 0, 0, 0, 0],\n",
              "       [0, 0, 0, 0, 0, 0, 1, 0, 0, 0],\n",
              "       [0, 0, 0, 0, 0, 0, 0, 1, 0, 0],\n",
              "       [0, 0, 0, 0, 0, 0, 0, 0, 1, 0],\n",
              "       [0, 0, 0, 0, 0, 0, 0, 0, 0, 1]], dtype=uint8)"
            ]
          },
          "execution_count": 53,
          "metadata": {},
          "output_type": "execute_result"
        }
      ],
      "source": [
        "y_test"
      ]
    },
    {
      "cell_type": "code",
      "execution_count": 54,
      "metadata": {
        "colab": {
          "base_uri": "https://localhost:8080/"
        },
        "id": "X_urYiDyXtn5",
        "outputId": "bd674f43-900b-410a-d670-309243eac8ae"
      },
      "outputs": [
        {
          "data": {
            "text/plain": [
              "((12, 10), (10, 10))"
            ]
          },
          "execution_count": 54,
          "metadata": {},
          "output_type": "execute_result"
        }
      ],
      "source": [
        "y_train.shape,y_test.shape"
      ]
    },
    {
      "cell_type": "code",
      "execution_count": 55,
      "metadata": {
        "colab": {
          "base_uri": "https://localhost:8080/"
        },
        "id": "0jMrfnwKX1DC",
        "outputId": "832af3f7-4495-4c08-b90c-c97eff02dabf"
      },
      "outputs": [
        {
          "data": {
            "text/plain": [
              "(12, 10)"
            ]
          },
          "execution_count": 55,
          "metadata": {},
          "output_type": "execute_result"
        }
      ],
      "source": [
        "X_train.shape"
      ]
    },
    {
      "cell_type": "code",
      "execution_count": 56,
      "metadata": {
        "colab": {
          "base_uri": "https://localhost:8080/"
        },
        "id": "Yf1it_OmmurY",
        "outputId": "d3e15ac4-58c1-4ce6-d228-7b380c988c78"
      },
      "outputs": [
        {
          "data": {
            "text/plain": [
              "(10, 10)"
            ]
          },
          "execution_count": 56,
          "metadata": {},
          "output_type": "execute_result"
        }
      ],
      "source": [
        "X_test.shape"
      ]
    },
    {
      "cell_type": "code",
      "execution_count": 57,
      "metadata": {
        "id": "fJHi-DiIX0_D"
      },
      "outputs": [],
      "source": [
        "max_length = X_train.shape[1]\n",
        "output = 16                  # no of classes"
      ]
    },
    {
      "cell_type": "markdown",
      "metadata": {
        "id": "v72uEhyGCk8Z"
      },
      "source": [
        "Reference for the model below:\n",
        "\n",
        "*   https://keras.io/api/callbacks/model_checkpoint/\n",
        "*   https://www.tensorflow.org/api_docs/python/tf/keras/callbacks/ReduceLROnPlateau"
      ]
    },
    {
      "cell_type": "code",
      "execution_count": 58,
      "metadata": {
        "id": "QtCFWykAX08b"
      },
      "outputs": [],
      "source": [
        "early_stopping = EarlyStopping(monitor='val_loss',patience=10) #patience : number of epochs with no improvement after which training will be stopped\n",
        "\n",
        "checkpoint = ModelCheckpoint(\"model-v1.h5\",\n",
        "                             monitor=\"val_loss\",\n",
        "                             mode=\"min\",\n",
        "                             save_best_only = True,\n",
        "                             verbose=1)\n",
        "\n",
        "reduce_lr = ReduceLROnPlateau(monitor = 'val_loss', factor = 0.2, patience = 3, verbose = 1, min_delta = 0.0001)\n",
        "\n",
        "callbacks = [early_stopping,checkpoint,reduce_lr]"
      ]
    },
    {
      "cell_type": "markdown",
      "metadata": {
        "id": "65wJtH4MG0It"
      },
      "source": [
        "References : \n",
        "* Word embeddings - https://machinelearningmastery.com/use-word-embedding-layers-deep-learning-keras/\n",
        "* 2D CNN when we have 3D features, such as RGB - \n",
        "https://missinglink.ai/guides/keras/keras-conv1d-working-1d-convolutional-neural-networks-keras/\n",
        "* Pooling layers reduce the size of the representation to speed up the computation and make features robust\n",
        "* Add a \"flatten\" layer which prepares a vector for the fully connected layers, for example using Sequential.add(Flatten()) -  \n",
        "https://missinglink.ai/guides/keras/using-keras-flatten-operation-cnn-models-code-examples/\n",
        "* Dense layer - A fully connected layer also known as the dense layer, in which the results of the convolutional layers are fed through one or more neural layers to generate a prediction\n",
        "* Activation functions - https://towardsdatascience.com/activation-functions-neural-networks-1cbd9f8d91d6 "
      ]
    },
    {
      "cell_type": "markdown",
      "metadata": {
        "id": "5zfZy2tABMkl"
      },
      "source": [
        "## Vanilla RNN"
      ]
    },
    {
      "cell_type": "markdown",
      "metadata": {
        "id": "6uwe7aPetEi3"
      },
      "source": [
        "* Why use embedding layer before RNN/ LSTM layer -\n",
        "https://towardsdatascience.com/deep-learning-4-embedding-layers-f9a02d55ac12\n",
        "* Learning curves - https://www.dataquest.io/blog/learning-curves-machine-learning/\n",
        "\n",
        "\n",
        "\n"
      ]
    },
    {
      "cell_type": "code",
      "execution_count": 59,
      "metadata": {
        "id": "AOvE1ucyMcUZ"
      },
      "outputs": [],
      "source": [
        "def define_model1(vocab_size, max_length):\n",
        "    model1 = Sequential()\n",
        "    model1.add(Embedding(vocab_size,100, input_length=max_length))\n",
        "    model1.add(SimpleRNN(100))\n",
        "    model1.add(Dense(10, activation='softmax'))   \n",
        "    \n",
        "    model1.compile(loss = 'categorical_crossentropy',optimizer = 'adam',metrics = ['accuracy'])\n",
        "    \n",
        "    # summarize defined model\n",
        "    model1.summary()\n",
        "    plot_model(model1, to_file='model_1.png', show_shapes=True)\n",
        "    return model1"
      ]
    },
    {
      "cell_type": "code",
      "execution_count": 60,
      "metadata": {
        "colab": {
          "base_uri": "https://localhost:8080/"
        },
        "id": "Toir2G_NNEsX",
        "outputId": "98112820-925a-41a4-eea9-28ac0da91f8d"
      },
      "outputs": [
        {
          "name": "stdout",
          "output_type": "stream",
          "text": [
            "Model: \"sequential\"\n",
            "_________________________________________________________________\n",
            "Layer (type)                 Output Shape              Param #   \n",
            "=================================================================\n",
            "embedding (Embedding)        (None, 10, 100)           6500      \n",
            "_________________________________________________________________\n",
            "simple_rnn (SimpleRNN)       (None, 100)               20100     \n",
            "_________________________________________________________________\n",
            "dense (Dense)                (None, 10)                1010      \n",
            "=================================================================\n",
            "Total params: 27,610\n",
            "Trainable params: 27,610\n",
            "Non-trainable params: 0\n",
            "_________________________________________________________________\n",
            "('You must install pydot (`pip install pydot`) and install graphviz (see instructions at https://graphviz.gitlab.io/download/) ', 'for plot_model/model_to_dot to work.')\n"
          ]
        }
      ],
      "source": [
        "model1 = define_model1(vocab_size, max_length)"
      ]
    },
    {
      "cell_type": "code",
      "execution_count": 61,
      "metadata": {
        "colab": {
          "base_uri": "https://localhost:8080/"
        },
        "id": "pTFpfCkUNEpg",
        "outputId": "9191868b-6612-4c08-c99b-1babf28333bb"
      },
      "outputs": [
        {
          "name": "stdout",
          "output_type": "stream",
          "text": [
            "Epoch 1/10\n",
            "1/1 [==============================] - 5s 5s/step - loss: 2.2708 - accuracy: 0.1667 - val_loss: 2.2996 - val_accuracy: 0.1000\n",
            "\n",
            "Epoch 00001: val_loss improved from inf to 2.29961, saving model to model-v1.h5\n",
            "Epoch 2/10\n",
            "1/1 [==============================] - 0s 118ms/step - loss: 2.1359 - accuracy: 0.5000 - val_loss: 2.2788 - val_accuracy: 0.1000\n",
            "\n",
            "Epoch 00002: val_loss improved from 2.29961 to 2.27885, saving model to model-v1.h5\n",
            "Epoch 3/10\n",
            "1/1 [==============================] - 0s 70ms/step - loss: 2.0038 - accuracy: 0.8333 - val_loss: 2.2597 - val_accuracy: 0.2000\n",
            "\n",
            "Epoch 00003: val_loss improved from 2.27885 to 2.25966, saving model to model-v1.h5\n",
            "Epoch 4/10\n",
            "1/1 [==============================] - 0s 117ms/step - loss: 1.8724 - accuracy: 0.9167 - val_loss: 2.2417 - val_accuracy: 0.2000\n",
            "\n",
            "Epoch 00004: val_loss improved from 2.25966 to 2.24174, saving model to model-v1.h5\n",
            "Epoch 5/10\n",
            "1/1 [==============================] - 0s 73ms/step - loss: 1.7402 - accuracy: 0.9167 - val_loss: 2.2247 - val_accuracy: 0.2000\n",
            "\n",
            "Epoch 00005: val_loss improved from 2.24174 to 2.22470, saving model to model-v1.h5\n",
            "Epoch 6/10\n",
            "1/1 [==============================] - 0s 79ms/step - loss: 1.6064 - accuracy: 0.9167 - val_loss: 2.2079 - val_accuracy: 0.2000\n",
            "\n",
            "Epoch 00006: val_loss improved from 2.22470 to 2.20793, saving model to model-v1.h5\n",
            "Epoch 7/10\n",
            "1/1 [==============================] - 0s 88ms/step - loss: 1.4703 - accuracy: 0.9167 - val_loss: 2.1906 - val_accuracy: 0.2000\n",
            "\n",
            "Epoch 00007: val_loss improved from 2.20793 to 2.19056, saving model to model-v1.h5\n",
            "Epoch 8/10\n",
            "1/1 [==============================] - 0s 73ms/step - loss: 1.3314 - accuracy: 0.9167 - val_loss: 2.1719 - val_accuracy: 0.2000\n",
            "\n",
            "Epoch 00008: val_loss improved from 2.19056 to 2.17186, saving model to model-v1.h5\n",
            "Epoch 9/10\n",
            "1/1 [==============================] - 0s 86ms/step - loss: 1.1900 - accuracy: 0.9167 - val_loss: 2.1517 - val_accuracy: 0.2000\n",
            "\n",
            "Epoch 00009: val_loss improved from 2.17186 to 2.15169, saving model to model-v1.h5\n",
            "Epoch 10/10\n",
            "1/1 [==============================] - 0s 256ms/step - loss: 1.0474 - accuracy: 1.0000 - val_loss: 2.1308 - val_accuracy: 0.2000\n",
            "\n",
            "Epoch 00010: val_loss improved from 2.15169 to 2.13079, saving model to model-v1.h5\n"
          ]
        }
      ],
      "source": [
        "history1 = model1.fit(X_train, y_train, epochs=10, verbose=1,validation_data=(X_test,y_test),callbacks=callbacks)#,callbacks=callbacks)"
      ]
    },
    {
      "cell_type": "code",
      "execution_count": 62,
      "metadata": {
        "colab": {
          "base_uri": "https://localhost:8080/",
          "height": 513
        },
        "id": "k0I_FjV6mDQR",
        "outputId": "647955ed-729d-432f-b78f-52d08bf8798d"
      },
      "outputs": [
        {
          "data": {
            "image/png": "[encoded data removed]",
            "text/plain": [
              "<Figure size 1152x576 with 2 Axes>"
            ]
          },
          "metadata": {
            "needs_background": "light"
          },
          "output_type": "display_data"
        }
      ],
      "source": [
        "# Learning curves \n",
        "\n",
        "acc = history1.history['accuracy']\n",
        "val_acc = history1.history['val_accuracy']\n",
        "loss=history1.history['loss']\n",
        "val_loss=history1.history['val_loss']\n",
        "\n",
        "plt.figure(figsize=(16,8))\n",
        "plt.subplot(1, 2, 1)\n",
        "plt.plot(acc, label='Training Accuracy')\n",
        "plt.plot(val_acc, label='Validation Accuracy')\n",
        "plt.legend(loc='lower right')\n",
        "plt.title('Training and Validation Accuracy')\n",
        "plt.xlabel(\"epochs\")\n",
        "plt.ylabel(\"accuracy\")\n",
        "\n",
        "plt.subplot(1, 2, 2)\n",
        "plt.plot(loss, label='Training Loss')\n",
        "plt.plot(val_loss, label='Validation Loss')\n",
        "plt.legend(loc='upper right')\n",
        "plt.title('Training and Validation Loss')\n",
        "plt.xlabel(\"epochs\")\n",
        "plt.ylabel(\"loss\")\n",
        "plt.show()"
      ]
    },
    {
      "cell_type": "markdown",
      "metadata": {
        "id": "mdIDkqyABJbr"
      },
      "source": [
        "## CNN"
      ]
    },
    {
      "cell_type": "code",
      "execution_count": 63,
      "metadata": {
        "id": "0sR_Z8kDX8VD"
      },
      "outputs": [],
      "source": [
        "def define_model2(vocab_size, max_length):\n",
        "    model2 = Sequential()\n",
        "    model2.add(Embedding(vocab_size,300, input_length=max_length))\n",
        "    model2.add(Conv1D(filters=32, kernel_size=2, activation='relu'))\n",
        "    model2.add(MaxPooling1D(pool_size = 4))\n",
        "    model2.add(Flatten())\n",
        "    model2.add(Dense(32, activation='relu'))\n",
        "    model2.add(Dense(10, activation='softmax'))\n",
        "    \n",
        "    model2.compile(loss = 'categorical_crossentropy',optimizer = 'adam',metrics = ['accuracy'])\n",
        "    \n",
        "    # summarize defined model\n",
        "    model2.summary()\n",
        "    return model2"
      ]
    },
    {
      "cell_type": "code",
      "execution_count": 64,
      "metadata": {
        "colab": {
          "base_uri": "https://localhost:8080/"
        },
        "id": "n1ePmE7PX8R0",
        "outputId": "94070aba-3771-4325-e72a-27f8f9475f7d"
      },
      "outputs": [
        {
          "name": "stdout",
          "output_type": "stream",
          "text": [
            "Model: \"sequential_1\"\n",
            "_________________________________________________________________\n",
            "Layer (type)                 Output Shape              Param #   \n",
            "=================================================================\n",
            "embedding_1 (Embedding)      (None, 10, 300)           19500     \n",
            "_________________________________________________________________\n",
            "conv1d (Conv1D)              (None, 9, 32)             19232     \n",
            "_________________________________________________________________\n",
            "max_pooling1d (MaxPooling1D) (None, 2, 32)             0         \n",
            "_________________________________________________________________\n",
            "flatten (Flatten)            (None, 64)                0         \n",
            "_________________________________________________________________\n",
            "dense_1 (Dense)              (None, 32)                2080      \n",
            "_________________________________________________________________\n",
            "dense_2 (Dense)              (None, 10)                330       \n",
            "=================================================================\n",
            "Total params: 41,142\n",
            "Trainable params: 41,142\n",
            "Non-trainable params: 0\n",
            "_________________________________________________________________\n"
          ]
        }
      ],
      "source": [
        "model2 = define_model2(vocab_size, max_length)"
      ]
    },
    {
      "cell_type": "code",
      "execution_count": 65,
      "metadata": {
        "colab": {
          "base_uri": "https://localhost:8080/"
        },
        "id": "CnC_x02JX8Pd",
        "outputId": "93ae2b41-a447-4a9d-fa8b-952ceea4b9f6"
      },
      "outputs": [
        {
          "name": "stdout",
          "output_type": "stream",
          "text": [
            "Epoch 1/15\n",
            "1/1 [==============================] - 2s 2s/step - loss: 2.2911 - accuracy: 0.0833 - val_loss: 2.3008 - val_accuracy: 0.0000e+00\n",
            "\n",
            "Epoch 00001: val_loss did not improve from 2.13079\n",
            "Epoch 2/15\n",
            "1/1 [==============================] - 0s 52ms/step - loss: 2.2453 - accuracy: 0.3333 - val_loss: 2.2955 - val_accuracy: 0.1000\n",
            "\n",
            "Epoch 00002: val_loss did not improve from 2.13079\n",
            "Epoch 3/15\n",
            "1/1 [==============================] - 0s 60ms/step - loss: 2.2097 - accuracy: 0.6667 - val_loss: 2.2907 - val_accuracy: 0.1000\n",
            "\n",
            "Epoch 00003: val_loss did not improve from 2.13079\n",
            "Epoch 4/15\n",
            "1/1 [==============================] - 0s 66ms/step - loss: 2.1756 - accuracy: 0.6667 - val_loss: 2.2876 - val_accuracy: 0.1000\n",
            "\n",
            "Epoch 00004: val_loss did not improve from 2.13079\n",
            "Epoch 5/15\n",
            "1/1 [==============================] - 0s 63ms/step - loss: 2.1416 - accuracy: 0.6667 - val_loss: 2.2865 - val_accuracy: 0.1000\n",
            "\n",
            "Epoch 00005: val_loss did not improve from 2.13079\n",
            "Epoch 6/15\n",
            "1/1 [==============================] - 0s 73ms/step - loss: 2.1070 - accuracy: 0.6667 - val_loss: 2.2855 - val_accuracy: 0.1000\n",
            "\n",
            "Epoch 00006: val_loss did not improve from 2.13079\n",
            "Epoch 7/15\n",
            "1/1 [==============================] - 0s 72ms/step - loss: 2.0709 - accuracy: 0.7500 - val_loss: 2.2846 - val_accuracy: 0.1000\n",
            "\n",
            "Epoch 00007: val_loss did not improve from 2.13079\n",
            "Epoch 8/15\n",
            "1/1 [==============================] - 0s 68ms/step - loss: 2.0340 - accuracy: 0.7500 - val_loss: 2.2835 - val_accuracy: 0.1000\n",
            "\n",
            "Epoch 00008: val_loss did not improve from 2.13079\n",
            "Epoch 9/15\n",
            "1/1 [==============================] - 0s 55ms/step - loss: 1.9955 - accuracy: 0.7500 - val_loss: 2.2832 - val_accuracy: 0.1000\n",
            "\n",
            "Epoch 00009: val_loss did not improve from 2.13079\n",
            "Epoch 10/15\n",
            "1/1 [==============================] - 0s 63ms/step - loss: 1.9561 - accuracy: 0.7500 - val_loss: 2.2827 - val_accuracy: 0.1000\n",
            "\n",
            "Epoch 00010: val_loss did not improve from 2.13079\n",
            "Epoch 11/15\n",
            "1/1 [==============================] - 0s 68ms/step - loss: 1.9161 - accuracy: 0.7500 - val_loss: 2.2822 - val_accuracy: 0.1000\n",
            "\n",
            "Epoch 00011: val_loss did not improve from 2.13079\n",
            "Epoch 12/15\n",
            "1/1 [==============================] - 0s 60ms/step - loss: 1.8756 - accuracy: 0.7500 - val_loss: 2.2814 - val_accuracy: 0.1000\n",
            "\n",
            "Epoch 00012: val_loss did not improve from 2.13079\n",
            "Epoch 13/15\n",
            "1/1 [==============================] - 0s 57ms/step - loss: 1.8339 - accuracy: 0.7500 - val_loss: 2.2809 - val_accuracy: 0.1000\n",
            "\n",
            "Epoch 00013: val_loss did not improve from 2.13079\n",
            "Epoch 14/15\n",
            "1/1 [==============================] - 0s 54ms/step - loss: 1.7911 - accuracy: 0.7500 - val_loss: 2.2804 - val_accuracy: 0.1000\n",
            "\n",
            "Epoch 00014: val_loss did not improve from 2.13079\n",
            "Epoch 15/15\n",
            "1/1 [==============================] - 0s 63ms/step - loss: 1.7464 - accuracy: 0.7500 - val_loss: 2.2799 - val_accuracy: 0.1000\n",
            "\n",
            "Epoch 00015: val_loss did not improve from 2.13079\n"
          ]
        }
      ],
      "source": [
        "history = model2.fit(X_train, y_train, epochs=15, verbose=1,validation_data=(X_test,y_test),callbacks=callbacks)"
      ]
    },
    {
      "cell_type": "code",
      "execution_count": 66,
      "metadata": {
        "colab": {
          "base_uri": "https://localhost:8080/",
          "height": 513
        },
        "id": "SMNZHhfqYEQ9",
        "outputId": "0c81da43-c58a-419d-b477-9afb5cb5c262"
      },
      "outputs": [
        {
          "data": {
            "image/png": "[encoded data removed]",
            "text/plain": [
              "<Figure size 1152x576 with 2 Axes>"
            ]
          },
          "metadata": {
            "needs_background": "light"
          },
          "output_type": "display_data"
        }
      ],
      "source": [
        "# Learning curves \n",
        "\n",
        "acc = history.history['accuracy']\n",
        "val_acc = history.history['val_accuracy']\n",
        "loss=history.history['loss']\n",
        "val_loss=history.history['val_loss']\n",
        "\n",
        "plt.figure(figsize=(16,8))\n",
        "plt.subplot(1, 2, 1)\n",
        "plt.plot(acc, label='Training Accuracy')\n",
        "plt.plot(val_acc, label='Validation Accuracy')\n",
        "plt.legend(loc='lower right')\n",
        "plt.title('Training and Validation Accuracy')\n",
        "plt.xlabel(\"epochs\")\n",
        "plt.ylabel(\"accuracy\")\n",
        "\n",
        "plt.subplot(1, 2, 2)\n",
        "plt.plot(loss, label='Training Loss')\n",
        "plt.plot(val_loss, label='Validation Loss')\n",
        "plt.legend(loc='upper right')\n",
        "plt.title('Training and Validation Loss')\n",
        "plt.xlabel(\"epochs\")\n",
        "plt.ylabel(\"loss\")\n",
        "plt.show()"
      ]
    },
    {
      "cell_type": "markdown",
      "metadata": {
        "id": "I_PRZPplHqmV"
      },
      "source": [
        "## LSTM"
      ]
    },
    {
      "cell_type": "code",
      "execution_count": 67,
      "metadata": {
        "id": "-T3A0-TWmDS8"
      },
      "outputs": [],
      "source": [
        "def define_model3(vocab_size, max_length):\n",
        "    model3 = Sequential()\n",
        "    model3.add(Embedding(vocab_size,300, input_length=max_length))\n",
        "    model3.add(LSTM(500))\n",
        "    model3.add(Dense(10, activation='softmax'))\n",
        "    \n",
        "    model3.compile(loss = 'categorical_crossentropy',optimizer = 'adam',metrics = ['accuracy'])\n",
        "    \n",
        "    # summarize defined model\n",
        "    model3.summary()\n",
        "    return model3"
      ]
    },
    {
      "cell_type": "code",
      "execution_count": 68,
      "metadata": {
        "colab": {
          "base_uri": "https://localhost:8080/"
        },
        "id": "iNtO1edjHxt6",
        "outputId": "649205f4-53fa-4ba1-909b-827dab404f80"
      },
      "outputs": [
        {
          "name": "stdout",
          "output_type": "stream",
          "text": [
            "Model: \"sequential_2\"\n",
            "_________________________________________________________________\n",
            "Layer (type)                 Output Shape              Param #   \n",
            "=================================================================\n",
            "embedding_2 (Embedding)      (None, 10, 300)           19500     \n",
            "_________________________________________________________________\n",
            "lstm (LSTM)                  (None, 500)               1602000   \n",
            "_________________________________________________________________\n",
            "dense_3 (Dense)              (None, 10)                5010      \n",
            "=================================================================\n",
            "Total params: 1,626,510\n",
            "Trainable params: 1,626,510\n",
            "Non-trainable params: 0\n",
            "_________________________________________________________________\n"
          ]
        }
      ],
      "source": [
        "model3 = define_model3(vocab_size, max_length)"
      ]
    },
    {
      "cell_type": "code",
      "execution_count": 69,
      "metadata": {
        "colab": {
          "base_uri": "https://localhost:8080/"
        },
        "id": "FGq3NSaJCoJg",
        "outputId": "8bbbeb09-6b9c-45c8-ef4e-38beb1ffa860"
      },
      "outputs": [
        {
          "name": "stdout",
          "output_type": "stream",
          "text": [
            "Epoch 1/15\n",
            "1/1 [==============================] - 7s 7s/step - loss: 2.2969 - accuracy: 0.1667 - val_loss: 2.2887 - val_accuracy: 0.1000\n",
            "Epoch 2/15\n",
            "1/1 [==============================] - 0s 203ms/step - loss: 2.2420 - accuracy: 0.4167 - val_loss: 2.2797 - val_accuracy: 0.1000\n",
            "Epoch 3/15\n",
            "1/1 [==============================] - 0s 194ms/step - loss: 2.1833 - accuracy: 0.4167 - val_loss: 2.2732 - val_accuracy: 0.1000\n",
            "Epoch 4/15\n",
            "1/1 [==============================] - 0s 175ms/step - loss: 2.1140 - accuracy: 0.4167 - val_loss: 2.2751 - val_accuracy: 0.1000\n",
            "Epoch 5/15\n",
            "1/1 [==============================] - 0s 137ms/step - loss: 2.0298 - accuracy: 0.4167 - val_loss: 2.3015 - val_accuracy: 0.1000\n",
            "Epoch 6/15\n",
            "1/1 [==============================] - 0s 165ms/step - loss: 1.9346 - accuracy: 0.4167 - val_loss: 2.3674 - val_accuracy: 0.1000\n",
            "Epoch 7/15\n",
            "1/1 [==============================] - 0s 174ms/step - loss: 1.8416 - accuracy: 0.4167 - val_loss: 2.4150 - val_accuracy: 0.2000\n",
            "Epoch 8/15\n",
            "1/1 [==============================] - 0s 188ms/step - loss: 1.7324 - accuracy: 0.4167 - val_loss: 2.3712 - val_accuracy: 0.2000\n",
            "Epoch 9/15\n",
            "1/1 [==============================] - 0s 159ms/step - loss: 1.5756 - accuracy: 0.5000 - val_loss: 2.2742 - val_accuracy: 0.2000\n",
            "Epoch 10/15\n",
            "1/1 [==============================] - 0s 215ms/step - loss: 1.4161 - accuracy: 0.7500 - val_loss: 2.2199 - val_accuracy: 0.1000\n",
            "Epoch 11/15\n",
            "1/1 [==============================] - 0s 254ms/step - loss: 1.3357 - accuracy: 0.6667 - val_loss: 2.2575 - val_accuracy: 0.1000\n",
            "Epoch 12/15\n",
            "1/1 [==============================] - 0s 149ms/step - loss: 1.3128 - accuracy: 0.5833 - val_loss: 2.3390 - val_accuracy: 0.1000\n",
            "Epoch 13/15\n",
            "1/1 [==============================] - 0s 262ms/step - loss: 1.2011 - accuracy: 0.6667 - val_loss: 2.4411 - val_accuracy: 0.1000\n",
            "Epoch 14/15\n",
            "1/1 [==============================] - 0s 159ms/step - loss: 1.0378 - accuracy: 0.6667 - val_loss: 2.5452 - val_accuracy: 0.1000\n",
            "Epoch 15/15\n",
            "1/1 [==============================] - 0s 184ms/step - loss: 0.8964 - accuracy: 0.8333 - val_loss: 2.6187 - val_accuracy: 0.2000\n"
          ]
        }
      ],
      "source": [
        "history = model3.fit(X_train, y_train, epochs=15, verbose=1,validation_data=(X_test,y_test))"
      ]
    },
    {
      "cell_type": "code",
      "execution_count": 70,
      "metadata": {
        "colab": {
          "base_uri": "https://localhost:8080/",
          "height": 513
        },
        "id": "36X8FbbgOhTf",
        "outputId": "d559e43f-df22-46de-a7a1-ec3c9cab5e07"
      },
      "outputs": [
        {
          "data": {
            "image/png": "[encoded data removed]",
            "text/plain": [
              "<Figure size 1152x576 with 2 Axes>"
            ]
          },
          "metadata": {
            "needs_background": "light"
          },
          "output_type": "display_data"
        }
      ],
      "source": [
        "# Learning curves \n",
        "\n",
        "acc = history.history['accuracy']\n",
        "val_acc = history.history['val_accuracy']\n",
        "loss=history.history['loss']\n",
        "val_loss=history.history['val_loss']\n",
        "\n",
        "plt.figure(figsize=(16,8))\n",
        "plt.subplot(1, 2, 1)\n",
        "plt.plot(acc, label='Training Accuracy')\n",
        "plt.plot(val_acc, label='Validation Accuracy')\n",
        "plt.legend(loc='lower right')\n",
        "plt.title('Training and Validation Accuracy')\n",
        "plt.xlabel(\"epochs\")\n",
        "plt.ylabel(\"accuracy\")\n",
        "\n",
        "plt.subplot(1, 2, 2)\n",
        "plt.plot(loss, label='Training Loss')\n",
        "plt.plot(val_loss, label='Validation Loss')\n",
        "plt.legend(loc='upper right')\n",
        "plt.title('Training and Validation Loss')\n",
        "plt.xlabel(\"epochs\")\n",
        "plt.ylabel(\"loss\")\n",
        "plt.show()"
      ]
    },
    {
      "cell_type": "markdown",
      "metadata": {
        "id": "qBmXCUoUct-Y"
      },
      "source": [
        "## GRU"
      ]
    },
    {
      "cell_type": "code",
      "execution_count": 71,
      "metadata": {
        "id": "xzIyloY3cyoD"
      },
      "outputs": [],
      "source": [
        "def define_model3(vocab_size, max_length):\n",
        "    model3 = Sequential()\n",
        "    model3.add(Embedding(vocab_size,300, input_length=max_length))\n",
        "    model3.add(GRU(500))\n",
        "    model3.add(Dense(10, activation='softmax'))\n",
        "    \n",
        "    model3.compile(loss = 'categorical_crossentropy',optimizer = 'adam',metrics = ['accuracy'])\n",
        "    \n",
        "    # summarize defined model\n",
        "    model3.summary()\n",
        "    return model3"
      ]
    },
    {
      "cell_type": "code",
      "execution_count": 72,
      "metadata": {
        "colab": {
          "base_uri": "https://localhost:8080/"
        },
        "id": "qEXaR-g4cylS",
        "outputId": "b8071e06-098e-4878-fae7-84a628aa0673"
      },
      "outputs": [
        {
          "name": "stdout",
          "output_type": "stream",
          "text": [
            "Model: \"sequential_3\"\n",
            "_________________________________________________________________\n",
            "Layer (type)                 Output Shape              Param #   \n",
            "=================================================================\n",
            "embedding_3 (Embedding)      (None, 10, 300)           19500     \n",
            "_________________________________________________________________\n",
            "gru (GRU)                    (None, 500)               1203000   \n",
            "_________________________________________________________________\n",
            "dense_4 (Dense)              (None, 10)                5010      \n",
            "=================================================================\n",
            "Total params: 1,227,510\n",
            "Trainable params: 1,227,510\n",
            "Non-trainable params: 0\n",
            "_________________________________________________________________\n"
          ]
        }
      ],
      "source": [
        "model3 = define_model3(vocab_size, max_length)"
      ]
    },
    {
      "cell_type": "code",
      "execution_count": 73,
      "metadata": {
        "colab": {
          "base_uri": "https://localhost:8080/"
        },
        "id": "49hqm9sWc1ED",
        "outputId": "b5da6e36-1690-4bd7-9f26-4706bf58a724"
      },
      "outputs": [
        {
          "name": "stdout",
          "output_type": "stream",
          "text": [
            "Epoch 1/15\n",
            "1/1 [==============================] - 8s 8s/step - loss: 2.3059 - accuracy: 0.1667 - val_loss: 2.2948 - val_accuracy: 0.2000\n",
            "Epoch 2/15\n",
            "1/1 [==============================] - 0s 158ms/step - loss: 2.2379 - accuracy: 0.4167 - val_loss: 2.2952 - val_accuracy: 0.2000\n",
            "Epoch 3/15\n",
            "1/1 [==============================] - 0s 145ms/step - loss: 2.1723 - accuracy: 0.5833 - val_loss: 2.3022 - val_accuracy: 0.1000\n",
            "Epoch 4/15\n",
            "1/1 [==============================] - 0s 118ms/step - loss: 2.1038 - accuracy: 0.5000 - val_loss: 2.3203 - val_accuracy: 0.1000\n",
            "Epoch 5/15\n",
            "1/1 [==============================] - 0s 105ms/step - loss: 2.0298 - accuracy: 0.4167 - val_loss: 2.3577 - val_accuracy: 0.1000\n",
            "Epoch 6/15\n",
            "1/1 [==============================] - 0s 151ms/step - loss: 1.9515 - accuracy: 0.4167 - val_loss: 2.4209 - val_accuracy: 0.1000\n",
            "Epoch 7/15\n",
            "1/1 [==============================] - 0s 139ms/step - loss: 1.8717 - accuracy: 0.4167 - val_loss: 2.4965 - val_accuracy: 0.1000\n",
            "Epoch 8/15\n",
            "1/1 [==============================] - 0s 129ms/step - loss: 1.7858 - accuracy: 0.4167 - val_loss: 2.5365 - val_accuracy: 0.0000e+00\n",
            "Epoch 9/15\n",
            "1/1 [==============================] - 0s 89ms/step - loss: 1.6721 - accuracy: 0.4167 - val_loss: 2.5111 - val_accuracy: 0.0000e+00\n",
            "Epoch 10/15\n",
            "1/1 [==============================] - 0s 93ms/step - loss: 1.5193 - accuracy: 0.5000 - val_loss: 2.4338 - val_accuracy: 0.1000\n",
            "Epoch 11/15\n",
            "1/1 [==============================] - 0s 101ms/step - loss: 1.3565 - accuracy: 0.5833 - val_loss: 2.3816 - val_accuracy: 0.1000\n",
            "Epoch 12/15\n",
            "1/1 [==============================] - 0s 149ms/step - loss: 1.2624 - accuracy: 0.5833 - val_loss: 2.4443 - val_accuracy: 0.2000\n",
            "Epoch 13/15\n",
            "1/1 [==============================] - 0s 163ms/step - loss: 1.2411 - accuracy: 0.4167 - val_loss: 2.5441 - val_accuracy: 0.1000\n",
            "Epoch 14/15\n",
            "1/1 [==============================] - 0s 113ms/step - loss: 1.1277 - accuracy: 0.5000 - val_loss: 2.7133 - val_accuracy: 0.1000\n",
            "Epoch 15/15\n",
            "1/1 [==============================] - 0s 121ms/step - loss: 0.9937 - accuracy: 0.5000 - val_loss: 2.9609 - val_accuracy: 0.1000\n"
          ]
        }
      ],
      "source": [
        "history = model3.fit(X_train, y_train, epochs=15, verbose=1,validation_data=(X_test,y_test))"
      ]
    },
    {
      "cell_type": "code",
      "execution_count": 74,
      "metadata": {
        "colab": {
          "base_uri": "https://localhost:8080/",
          "height": 513
        },
        "id": "xDKC13iBc3Bw",
        "outputId": "fb4ff52f-419b-4d2f-d781-446632aa796d"
      },
      "outputs": [
        {
          "data": {
            "image/png": "[encoded data removed]",
            "text/plain": [
              "<Figure size 1152x576 with 2 Axes>"
            ]
          },
          "metadata": {
            "needs_background": "light"
          },
          "output_type": "display_data"
        }
      ],
      "source": [
        "# Learning curves \n",
        "\n",
        "acc = history.history['accuracy']\n",
        "val_acc = history.history['val_accuracy']\n",
        "loss=history.history['loss']\n",
        "val_loss=history.history['val_loss']\n",
        "\n",
        "plt.figure(figsize=(16,8))\n",
        "plt.subplot(1, 2, 1)\n",
        "plt.plot(acc, label='Training Accuracy')\n",
        "plt.plot(val_acc, label='Validation Accuracy')\n",
        "plt.legend(loc='lower right')\n",
        "plt.title('Training and Validation Accuracy')\n",
        "plt.xlabel(\"epochs\")\n",
        "plt.ylabel(\"accuracy\")\n",
        "\n",
        "plt.subplot(1, 2, 2)\n",
        "plt.plot(loss, label='Training Loss')\n",
        "plt.plot(val_loss, label='Validation Loss')\n",
        "plt.legend(loc='upper right')\n",
        "plt.title('Training and Validation Loss')\n",
        "plt.xlabel(\"epochs\")\n",
        "plt.ylabel(\"loss\")\n",
        "plt.show()"
      ]
    },
    {
      "cell_type": "markdown",
      "metadata": {
        "id": "YJ2romsAsshs"
      },
      "source": [
        "## BiLSTM\n"
      ]
    },
    {
      "cell_type": "code",
      "execution_count": 75,
      "metadata": {
        "id": "b02HsFGVs0WV"
      },
      "outputs": [],
      "source": [
        "def define_model3(vocab_size, max_length):\n",
        "    model3 = Sequential()\n",
        "    model3.add(Embedding(vocab_size,300, input_length=max_length))\n",
        "    model3.add(Bidirectional(LSTM(500)))\n",
        "    model3.add(Dense(10, activation='softmax'))\n",
        "    \n",
        "    model3.compile(loss = 'categorical_crossentropy',optimizer = 'adam',metrics = ['accuracy'])\n",
        "    \n",
        "    # summarize defined model\n",
        "    model3.summary()\n",
        "    return model3"
      ]
    },
    {
      "cell_type": "code",
      "execution_count": 76,
      "metadata": {
        "colab": {
          "base_uri": "https://localhost:8080/"
        },
        "id": "I4VV9MlFs1Va",
        "outputId": "2c1f7a8a-5f09-4d3c-aa1d-86adb03de019"
      },
      "outputs": [
        {
          "name": "stdout",
          "output_type": "stream",
          "text": [
            "Model: \"sequential_4\"\n",
            "_________________________________________________________________\n",
            "Layer (type)                 Output Shape              Param #   \n",
            "=================================================================\n",
            "embedding_4 (Embedding)      (None, 10, 300)           19500     \n",
            "_________________________________________________________________\n",
            "bidirectional (Bidirectional (None, 1000)              3204000   \n",
            "_________________________________________________________________\n",
            "dense_5 (Dense)              (None, 10)                10010     \n",
            "=================================================================\n",
            "Total params: 3,233,510\n",
            "Trainable params: 3,233,510\n",
            "Non-trainable params: 0\n",
            "_________________________________________________________________\n"
          ]
        }
      ],
      "source": [
        "model3 = define_model3(vocab_size, max_length)"
      ]
    },
    {
      "cell_type": "code",
      "execution_count": 77,
      "metadata": {
        "colab": {
          "base_uri": "https://localhost:8080/"
        },
        "id": "xfNlWQazs1Sa",
        "outputId": "34d4b707-9efd-4f6f-de1c-af46e0b2950a"
      },
      "outputs": [
        {
          "name": "stdout",
          "output_type": "stream",
          "text": [
            "Epoch 1/10\n",
            "1/1 [==============================] - 14s 14s/step - loss: 2.3014 - accuracy: 0.1667 - val_loss: 2.2933 - val_accuracy: 0.1000\n",
            "Epoch 2/10\n",
            "1/1 [==============================] - 0s 331ms/step - loss: 2.2320 - accuracy: 0.4167 - val_loss: 2.2832 - val_accuracy: 0.1000\n",
            "Epoch 3/10\n",
            "1/1 [==============================] - 0s 222ms/step - loss: 2.1590 - accuracy: 0.4167 - val_loss: 2.2781 - val_accuracy: 0.1000\n",
            "Epoch 4/10\n",
            "1/1 [==============================] - 1s 509ms/step - loss: 2.0735 - accuracy: 0.3333 - val_loss: 2.2891 - val_accuracy: 0.1000\n",
            "Epoch 5/10\n",
            "1/1 [==============================] - 0s 299ms/step - loss: 1.9716 - accuracy: 0.3333 - val_loss: 2.3479 - val_accuracy: 0.1000\n",
            "Epoch 6/10\n",
            "1/1 [==============================] - 1s 849ms/step - loss: 1.8658 - accuracy: 0.3333 - val_loss: 2.4557 - val_accuracy: 0.1000\n",
            "Epoch 7/10\n",
            "1/1 [==============================] - 0s 294ms/step - loss: 1.7693 - accuracy: 0.4167 - val_loss: 2.4613 - val_accuracy: 0.1000\n",
            "Epoch 8/10\n",
            "1/1 [==============================] - 0s 207ms/step - loss: 1.6273 - accuracy: 0.5000 - val_loss: 2.3978 - val_accuracy: 0.1000\n",
            "Epoch 9/10\n",
            "1/1 [==============================] - 1s 576ms/step - loss: 1.4536 - accuracy: 0.5833 - val_loss: 2.3521 - val_accuracy: 0.2000\n",
            "Epoch 10/10\n",
            "1/1 [==============================] - 0s 329ms/step - loss: 1.2683 - accuracy: 0.9167 - val_loss: 2.3738 - val_accuracy: 0.0000e+00\n"
          ]
        }
      ],
      "source": [
        "history = model3.fit(X_train, y_train, epochs=10, verbose=1,validation_data=(X_test,y_test))"
      ]
    },
    {
      "cell_type": "code",
      "execution_count": 78,
      "metadata": {
        "colab": {
          "base_uri": "https://localhost:8080/",
          "height": 513
        },
        "id": "_XGvXqCfs1Qf",
        "outputId": "45e3d1d9-1171-4f92-9a6e-53c29ff8583e"
      },
      "outputs": [
        {
          "data": {
            "image/png": "[encoded data removed]",
            "text/plain": [
              "<Figure size 1152x576 with 2 Axes>"
            ]
          },
          "metadata": {
            "needs_background": "light"
          },
          "output_type": "display_data"
        }
      ],
      "source": [
        "# Learning curves \n",
        "\n",
        "acc = history.history['accuracy']\n",
        "val_acc = history.history['val_accuracy']\n",
        "loss=history.history['loss']\n",
        "val_loss=history.history['val_loss']\n",
        "\n",
        "plt.figure(figsize=(16,8))\n",
        "plt.subplot(1, 2, 1)\n",
        "plt.plot(acc, label='Training Accuracy')\n",
        "plt.plot(val_acc, label='Validation Accuracy')\n",
        "plt.legend(loc='lower right')\n",
        "plt.title('Training and Validation Accuracy')\n",
        "plt.xlabel(\"epochs\")\n",
        "plt.ylabel(\"accuracy\")\n",
        "\n",
        "plt.subplot(1, 2, 2)\n",
        "plt.plot(loss, label='Training Loss')\n",
        "plt.plot(val_loss, label='Validation Loss')\n",
        "plt.legend(loc='upper right')\n",
        "plt.title('Training and Validation Loss')\n",
        "plt.xlabel(\"epochs\")\n",
        "plt.ylabel(\"loss\")\n",
        "plt.show()"
      ]
    },
    {
      "cell_type": "markdown",
      "metadata": {
        "id": "3I8Ykx3HGacK"
      },
      "source": [
        "Future scope -\n",
        "* embedding layer : GloVe\n",
        "* cross validation for testing\n",
        "* grid search CV"
      ]
    },
    {
      "cell_type": "markdown",
      "metadata": {
        "id": "xL1vugJNLy5x"
      },
      "source": [
        "## Predictions"
      ]
    },
    {
      "cell_type": "code",
      "execution_count": 79,
      "metadata": {
        "id": "SnWEw7d5TcOv"
      },
      "outputs": [],
      "source": [
        "import tensorflow as tf\n",
        "tf.get_logger().setLevel('ERROR')"
      ]
    },
    {
      "cell_type": "code",
      "execution_count": 80,
      "metadata": {
        "id": "rnB6-nG6SelW"
      },
      "outputs": [],
      "source": [
        "def get_text(str_text):\n",
        "    # print(str_text)\n",
        "    input_text  = [str_text]\n",
        "    df_input = pd.DataFrame(input_text,columns=['questions'])\n",
        "    df_input\n",
        "    return df_input"
      ]
    },
    {
      "cell_type": "code",
      "execution_count": 81,
      "metadata": {
        "id": "1101EozZSefs"
      },
      "outputs": [],
      "source": [
        "from tensorflow.keras.models import load_model\n",
        "model = model2\n",
        "tokenizer_t = joblib.load('tokenizer_t.pkl')\n",
        "vocab = joblib.load('vocab.pkl')"
      ]
    },
    {
      "cell_type": "code",
      "execution_count": 82,
      "metadata": {
        "id": "c51lst4wSedH"
      },
      "outputs": [],
      "source": [
        "def tokenizer(entry):\n",
        "    tokens = entry.split()\n",
        "    re_punc = re.compile('[%s]' % re.escape(string.punctuation))\n",
        "    tokens = [re_punc.sub('', w) for w in tokens]\n",
        "    tokens = [word for word in tokens if word.isalpha()]\n",
        "    tokens = [lemmatizer.lemmatize(w.lower()) for w in tokens]\n",
        "    # stop_words = set(stopwords.words('english'))\n",
        "    # tokens = [w for w in tokens if not w in stop_words]\n",
        "    tokens = [word.lower() for word in tokens if len(word) > 1]\n",
        "    return tokens"
      ]
    },
    {
      "cell_type": "code",
      "execution_count": 83,
      "metadata": {
        "id": "FK79K154Sp4y"
      },
      "outputs": [],
      "source": [
        "def remove_stop_words_for_input(tokenizer,df,feature):\n",
        "    doc_without_stopwords = []\n",
        "    entry = df[feature][0]\n",
        "    tokens = tokenizer(entry)\n",
        "    doc_without_stopwords.append(' '.join(tokens))\n",
        "    df[feature] = doc_without_stopwords\n",
        "    return df"
      ]
    },
    {
      "cell_type": "code",
      "execution_count": 84,
      "metadata": {
        "id": "afJXXfckSp1u"
      },
      "outputs": [],
      "source": [
        "def encode_input_text(tokenizer_t,df,feature):\n",
        "    t = tokenizer_t\n",
        "    entry = entry = [df[feature][0]]\n",
        "    encoded = t.texts_to_sequences(entry)\n",
        "    padded = pad_sequences(encoded, maxlen=16, padding='post')\n",
        "    return padded"
      ]
    },
    {
      "cell_type": "code",
      "execution_count": 85,
      "metadata": {
        "id": "aVfxwXqFSpzc"
      },
      "outputs": [],
      "source": [
        "def get_pred(model,encoded_input):\n",
        "    pred = np.argmax(model.predict(encoded_input))\n",
        "    return pred"
      ]
    },
    {
      "cell_type": "code",
      "execution_count": 86,
      "metadata": {
        "id": "hoq7PSF6Sea4"
      },
      "outputs": [],
      "source": [
        "def bot_precausion(df_input,pred):\n",
        "    words = df_input.questions[0].split()\n",
        "    if len([w for w in words if w in vocab])==0 :\n",
        "        pred = 1\n",
        "    return pred"
      ]
    },
    {
      "cell_type": "code",
      "execution_count": 87,
      "metadata": {
        "id": "TVP1uNDjS1D2"
      },
      "outputs": [],
      "source": [
        "def get_response(df2,pred):\n",
        "    upper_bound = df2.groupby('labels').get_group(pred).shape[0]\n",
        "    r = np.random.randint(0,upper_bound)\n",
        "    responses = list(df2.groupby('labels').get_group(pred).response)\n",
        "    return responses[r]"
      ]
    },
    {
      "cell_type": "code",
      "execution_count": 88,
      "metadata": {
        "id": "AeKrDXvxS1A9"
      },
      "outputs": [],
      "source": [
        "def bot_response(response,):\n",
        "    print(response)"
      ]
    },
    {
      "cell_type": "code",
      "execution_count": 89,
      "metadata": {
        "colab": {
          "base_uri": "https://localhost:8080/"
        },
        "id": "9a1AmUnKS6WW",
        "outputId": "fdee2cd3-a98f-474d-b250-548873a03c6c"
      },
      "outputs": [
        {
          "name": "stdout",
          "output_type": "stream",
          "text": [
            "Mental illnesses are health conditions that disrupt a person's thoughts, emotions, relationships, and daily functioning.\n"
          ]
        }
      ],
      "source": [
        "# correct response\n",
        "\n",
        "df_input = get_text(\"What does it mean to have a mental illness\")\n",
        "\n",
        "# load artifacts \n",
        "tokenizer_t = joblib.load('tokenizer_t.pkl')\n",
        "vocab = joblib.load('vocab.pkl')\n",
        "\n",
        "df_input = remove_stop_words_for_input(tokenizer,df_input,'questions')\n",
        "encoded_input = encode_input_text(tokenizer_t,df_input,'questions')\n",
        "\n",
        "pred = get_pred(model1,encoded_input)\n",
        "pred = bot_precausion(df_input,pred)\n",
        "\n",
        "response = get_response(df2,pred)\n",
        "bot_response(response)"
      ]
    },
    {
      "cell_type": "code",
      "execution_count": 90,
      "metadata": {
        "colab": {
          "base_uri": "https://localhost:8080/"
        },
        "id": "7hLqCtf2Su8W",
        "outputId": "45fce787-be44-4006-96b2-0d3a1e2bc785"
      },
      "outputs": [
        {
          "name": "stdout",
          "output_type": "stream",
          "text": [
            "It is estimated that mental illness affects 1 in 5 adults in America, and that 1 in 24 adults have a serious mental illness.\n"
          ]
        }
      ],
      "source": [
        "# wrong response\n",
        "\n",
        "df_input = get_text(\"What treatment options are available?\")\n",
        "\n",
        "#load artifacts \n",
        "tokenizer_t = joblib.load('tokenizer_t.pkl')\n",
        "vocab = joblib.load('vocab.pkl')\n",
        "\n",
        "df_input = remove_stop_words_for_input(tokenizer,df_input,'questions')\n",
        "encoded_input = encode_input_text(tokenizer_t,df_input,'questions')\n",
        "\n",
        "pred = get_pred(model1,encoded_input)\n",
        "pred = bot_precausion(df_input,pred)\n",
        "\n",
        "response = get_response(df2,pred)\n",
        "bot_response(response)"
      ]
    }
  ],
  "metadata": {
    "colab": {
      "collapsed_sections": [],
      "name": "Retrieval based",
      "provenance": []
    },
    "kernelspec": {
      "display_name": "tensorflow-environment",
      "language": "python",
      "name": "tensorflow-environment"
    },
    "language_info": {
      "codemirror_mode": {
        "name": "ipython",
        "version": 3
      },
      "file_extension": ".py",
      "mimetype": "text/x-python",
      "name": "python",
      "nbconvert_exporter": "python",
      "pygments_lexer": "ipython3",
      "version": "3.9.12 (main, Apr  4 2022, 05:22:27) [MSC v.1916 64 bit (AMD64)]"
    },
    "vscode": {
      "interpreter": {
        "hash": "1c9e4e2660ec305b117095556ce25bd0b92e14b02dd9bc6693f3faaba09c8ac2"
      }
    }
  },
  "nbformat": 4,
  "nbformat_minor": 0
}
